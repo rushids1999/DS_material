{
 "cells": [
  {
   "cell_type": "markdown",
   "id": "bf66ecd2",
   "metadata": {},
   "source": [
    "# Step- 1 : Business Problem Understanding\n",
    "    \n",
    "    "
   ]
  },
  {
   "cell_type": "code",
   "execution_count": 2,
   "id": "07fa8031",
   "metadata": {},
   "outputs": [],
   "source": [
    "import numpy as np\n",
    "import pandas as pd\n",
    "import seaborn as sns\n",
    "import matplotlib.pyplot as plt"
   ]
  },
  {
   "cell_type": "markdown",
   "id": "e83094c4",
   "metadata": {},
   "source": [
    "# step : 2 :Data Understanding"
   ]
  },
  {
   "cell_type": "markdown",
   "id": "aa270544",
   "metadata": {},
   "source": [
    "load Data & Understand every variable"
   ]
  },
  {
   "cell_type": "code",
   "execution_count": 5,
   "id": "9ddfd4cb",
   "metadata": {},
   "outputs": [
    {
     "data": {
      "text/html": [
       "<div>\n",
       "<style scoped>\n",
       "    .dataframe tbody tr th:only-of-type {\n",
       "        vertical-align: middle;\n",
       "    }\n",
       "\n",
       "    .dataframe tbody tr th {\n",
       "        vertical-align: top;\n",
       "    }\n",
       "\n",
       "    .dataframe thead th {\n",
       "        text-align: right;\n",
       "    }\n",
       "</style>\n",
       "<table border=\"1\" class=\"dataframe\">\n",
       "  <thead>\n",
       "    <tr style=\"text-align: right;\">\n",
       "      <th></th>\n",
       "      <th>age</th>\n",
       "      <th>sex</th>\n",
       "      <th>bmi</th>\n",
       "      <th>children</th>\n",
       "      <th>smoker</th>\n",
       "      <th>region</th>\n",
       "      <th>expenses</th>\n",
       "    </tr>\n",
       "  </thead>\n",
       "  <tbody>\n",
       "    <tr>\n",
       "      <th>0</th>\n",
       "      <td>19</td>\n",
       "      <td>female</td>\n",
       "      <td>27.9</td>\n",
       "      <td>0</td>\n",
       "      <td>yes</td>\n",
       "      <td>southwest</td>\n",
       "      <td>16884.92</td>\n",
       "    </tr>\n",
       "    <tr>\n",
       "      <th>1</th>\n",
       "      <td>18</td>\n",
       "      <td>male</td>\n",
       "      <td>33.8</td>\n",
       "      <td>1</td>\n",
       "      <td>no</td>\n",
       "      <td>southeast</td>\n",
       "      <td>1725.55</td>\n",
       "    </tr>\n",
       "    <tr>\n",
       "      <th>2</th>\n",
       "      <td>28</td>\n",
       "      <td>male</td>\n",
       "      <td>33.0</td>\n",
       "      <td>3</td>\n",
       "      <td>no</td>\n",
       "      <td>southeast</td>\n",
       "      <td>4449.46</td>\n",
       "    </tr>\n",
       "    <tr>\n",
       "      <th>3</th>\n",
       "      <td>33</td>\n",
       "      <td>male</td>\n",
       "      <td>22.7</td>\n",
       "      <td>0</td>\n",
       "      <td>no</td>\n",
       "      <td>northwest</td>\n",
       "      <td>21984.47</td>\n",
       "    </tr>\n",
       "    <tr>\n",
       "      <th>4</th>\n",
       "      <td>32</td>\n",
       "      <td>male</td>\n",
       "      <td>28.9</td>\n",
       "      <td>0</td>\n",
       "      <td>no</td>\n",
       "      <td>northwest</td>\n",
       "      <td>3866.86</td>\n",
       "    </tr>\n",
       "  </tbody>\n",
       "</table>\n",
       "</div>"
      ],
      "text/plain": [
       "   age     sex   bmi  children smoker     region  expenses\n",
       "0   19  female  27.9         0    yes  southwest  16884.92\n",
       "1   18    male  33.8         1     no  southeast   1725.55\n",
       "2   28    male  33.0         3     no  southeast   4449.46\n",
       "3   33    male  22.7         0     no  northwest  21984.47\n",
       "4   32    male  28.9         0     no  northwest   3866.86"
      ]
     },
     "execution_count": 5,
     "metadata": {},
     "output_type": "execute_result"
    }
   ],
   "source": [
    "df = pd.read_excel(\"insurance.xlsx\")\n",
    "df.head()"
   ]
  },
  {
   "cell_type": "markdown",
   "id": "4e248e39",
   "metadata": {},
   "source": [
    "Dataset Understanding"
   ]
  },
  {
   "cell_type": "code",
   "execution_count": 6,
   "id": "b713b61d",
   "metadata": {},
   "outputs": [
    {
     "data": {
      "text/plain": [
       "(1338, 7)"
      ]
     },
     "execution_count": 6,
     "metadata": {},
     "output_type": "execute_result"
    }
   ],
   "source": [
    "df.shape"
   ]
  },
  {
   "cell_type": "code",
   "execution_count": 7,
   "id": "8f722128",
   "metadata": {},
   "outputs": [
    {
     "name": "stdout",
     "output_type": "stream",
     "text": [
      "<class 'pandas.core.frame.DataFrame'>\n",
      "RangeIndex: 1338 entries, 0 to 1337\n",
      "Data columns (total 7 columns):\n",
      " #   Column    Non-Null Count  Dtype  \n",
      "---  ------    --------------  -----  \n",
      " 0   age       1338 non-null   int64  \n",
      " 1   sex       1338 non-null   object \n",
      " 2   bmi       1338 non-null   float64\n",
      " 3   children  1338 non-null   int64  \n",
      " 4   smoker    1338 non-null   object \n",
      " 5   region    1338 non-null   object \n",
      " 6   expenses  1338 non-null   float64\n",
      "dtypes: float64(2), int64(2), object(3)\n",
      "memory usage: 73.3+ KB\n"
     ]
    }
   ],
   "source": [
    "df.info()"
   ]
  },
  {
   "cell_type": "markdown",
   "id": "11db4f0c",
   "metadata": {},
   "source": [
    "# Exploratory data analysis"
   ]
  },
  {
   "cell_type": "code",
   "execution_count": 12,
   "id": "ae088766",
   "metadata": {},
   "outputs": [
    {
     "name": "stdout",
     "output_type": "stream",
     "text": [
      "Categorical feature ['sex', 'smoker', 'region']\n",
      "Continous feature ['bmi', 'expenses']\n",
      "feature to be checked ['age', 'children']\n"
     ]
    }
   ],
   "source": [
    "categorical=[]\n",
    "continous=[]\n",
    "check=[]\n",
    "\n",
    "d_types=dict(df.dtypes)\n",
    "\n",
    "for name,type in d_types.items():\n",
    "    if str(type) == 'object':\n",
    "        categorical.append(name)\n",
    "        \n",
    "    elif str(type)==\"float64\":\n",
    "        continous.append(name)\n",
    "        \n",
    "    else:\n",
    "        check.append(name)\n",
    "        \n",
    "print(\"Categorical feature\",categorical)\n",
    "print(\"Continous feature\",continous)\n",
    "print(\"feature to be checked\",check)"
   ]
  },
  {
   "cell_type": "code",
   "execution_count": 13,
   "id": "0f1a4044",
   "metadata": {},
   "outputs": [
    {
     "name": "stdout",
     "output_type": "stream",
     "text": [
      "====sex===>\n",
      "male      676\n",
      "female    662\n",
      "Name: sex, dtype: int64\n",
      "====smoker===>\n",
      "no     1064\n",
      "yes     274\n",
      "Name: smoker, dtype: int64\n",
      "====region===>\n",
      "southeast    364\n",
      "southwest    325\n",
      "northwest    325\n",
      "northeast    324\n",
      "Name: region, dtype: int64\n"
     ]
    }
   ],
   "source": [
    "d_type=dict(df.dtypes)\n",
    "for name,type_ in d_types.items():\n",
    "    if str(type_)=='object':\n",
    "        print(f\"===={name}===>\")\n",
    "        print(df[name].value_counts())"
   ]
  },
  {
   "cell_type": "code",
   "execution_count": 14,
   "id": "cf3dbe03",
   "metadata": {},
   "outputs": [
    {
     "data": {
      "text/html": [
       "<div>\n",
       "<style scoped>\n",
       "    .dataframe tbody tr th:only-of-type {\n",
       "        vertical-align: middle;\n",
       "    }\n",
       "\n",
       "    .dataframe tbody tr th {\n",
       "        vertical-align: top;\n",
       "    }\n",
       "\n",
       "    .dataframe thead th {\n",
       "        text-align: right;\n",
       "    }\n",
       "</style>\n",
       "<table border=\"1\" class=\"dataframe\">\n",
       "  <thead>\n",
       "    <tr style=\"text-align: right;\">\n",
       "      <th></th>\n",
       "      <th>age</th>\n",
       "      <th>bmi</th>\n",
       "      <th>children</th>\n",
       "      <th>expenses</th>\n",
       "    </tr>\n",
       "  </thead>\n",
       "  <tbody>\n",
       "    <tr>\n",
       "      <th>count</th>\n",
       "      <td>1338.000000</td>\n",
       "      <td>1338.000000</td>\n",
       "      <td>1338.000000</td>\n",
       "      <td>1338.000000</td>\n",
       "    </tr>\n",
       "    <tr>\n",
       "      <th>mean</th>\n",
       "      <td>39.207025</td>\n",
       "      <td>30.665471</td>\n",
       "      <td>1.094918</td>\n",
       "      <td>13270.422414</td>\n",
       "    </tr>\n",
       "    <tr>\n",
       "      <th>std</th>\n",
       "      <td>14.049960</td>\n",
       "      <td>6.098382</td>\n",
       "      <td>1.205493</td>\n",
       "      <td>12110.011240</td>\n",
       "    </tr>\n",
       "    <tr>\n",
       "      <th>min</th>\n",
       "      <td>18.000000</td>\n",
       "      <td>16.000000</td>\n",
       "      <td>0.000000</td>\n",
       "      <td>1121.870000</td>\n",
       "    </tr>\n",
       "    <tr>\n",
       "      <th>25%</th>\n",
       "      <td>27.000000</td>\n",
       "      <td>26.300000</td>\n",
       "      <td>0.000000</td>\n",
       "      <td>4740.287500</td>\n",
       "    </tr>\n",
       "    <tr>\n",
       "      <th>50%</th>\n",
       "      <td>39.000000</td>\n",
       "      <td>30.400000</td>\n",
       "      <td>1.000000</td>\n",
       "      <td>9382.030000</td>\n",
       "    </tr>\n",
       "    <tr>\n",
       "      <th>75%</th>\n",
       "      <td>51.000000</td>\n",
       "      <td>34.700000</td>\n",
       "      <td>2.000000</td>\n",
       "      <td>16639.915000</td>\n",
       "    </tr>\n",
       "    <tr>\n",
       "      <th>max</th>\n",
       "      <td>64.000000</td>\n",
       "      <td>53.100000</td>\n",
       "      <td>5.000000</td>\n",
       "      <td>63770.430000</td>\n",
       "    </tr>\n",
       "  </tbody>\n",
       "</table>\n",
       "</div>"
      ],
      "text/plain": [
       "               age          bmi     children      expenses\n",
       "count  1338.000000  1338.000000  1338.000000   1338.000000\n",
       "mean     39.207025    30.665471     1.094918  13270.422414\n",
       "std      14.049960     6.098382     1.205493  12110.011240\n",
       "min      18.000000    16.000000     0.000000   1121.870000\n",
       "25%      27.000000    26.300000     0.000000   4740.287500\n",
       "50%      39.000000    30.400000     1.000000   9382.030000\n",
       "75%      51.000000    34.700000     2.000000  16639.915000\n",
       "max      64.000000    53.100000     5.000000  63770.430000"
      ]
     },
     "execution_count": 14,
     "metadata": {},
     "output_type": "execute_result"
    }
   ],
   "source": [
    "df.describe()"
   ]
  },
  {
   "cell_type": "code",
   "execution_count": 15,
   "id": "bc8c7d84",
   "metadata": {},
   "outputs": [
    {
     "name": "stderr",
     "output_type": "stream",
     "text": [
      "C:\\Users\\Admin\\AppData\\Local\\Temp\\ipykernel_2472\\1134722465.py:1: FutureWarning: The default value of numeric_only in DataFrame.corr is deprecated. In a future version, it will default to False. Select only valid columns or specify the value of numeric_only to silence this warning.\n",
      "  df.corr()\n"
     ]
    },
    {
     "data": {
      "text/html": [
       "<div>\n",
       "<style scoped>\n",
       "    .dataframe tbody tr th:only-of-type {\n",
       "        vertical-align: middle;\n",
       "    }\n",
       "\n",
       "    .dataframe tbody tr th {\n",
       "        vertical-align: top;\n",
       "    }\n",
       "\n",
       "    .dataframe thead th {\n",
       "        text-align: right;\n",
       "    }\n",
       "</style>\n",
       "<table border=\"1\" class=\"dataframe\">\n",
       "  <thead>\n",
       "    <tr style=\"text-align: right;\">\n",
       "      <th></th>\n",
       "      <th>age</th>\n",
       "      <th>bmi</th>\n",
       "      <th>children</th>\n",
       "      <th>expenses</th>\n",
       "    </tr>\n",
       "  </thead>\n",
       "  <tbody>\n",
       "    <tr>\n",
       "      <th>age</th>\n",
       "      <td>1.000000</td>\n",
       "      <td>0.109341</td>\n",
       "      <td>0.042469</td>\n",
       "      <td>0.299008</td>\n",
       "    </tr>\n",
       "    <tr>\n",
       "      <th>bmi</th>\n",
       "      <td>0.109341</td>\n",
       "      <td>1.000000</td>\n",
       "      <td>0.012645</td>\n",
       "      <td>0.198576</td>\n",
       "    </tr>\n",
       "    <tr>\n",
       "      <th>children</th>\n",
       "      <td>0.042469</td>\n",
       "      <td>0.012645</td>\n",
       "      <td>1.000000</td>\n",
       "      <td>0.067998</td>\n",
       "    </tr>\n",
       "    <tr>\n",
       "      <th>expenses</th>\n",
       "      <td>0.299008</td>\n",
       "      <td>0.198576</td>\n",
       "      <td>0.067998</td>\n",
       "      <td>1.000000</td>\n",
       "    </tr>\n",
       "  </tbody>\n",
       "</table>\n",
       "</div>"
      ],
      "text/plain": [
       "               age       bmi  children  expenses\n",
       "age       1.000000  0.109341  0.042469  0.299008\n",
       "bmi       0.109341  1.000000  0.012645  0.198576\n",
       "children  0.042469  0.012645  1.000000  0.067998\n",
       "expenses  0.299008  0.198576  0.067998  1.000000"
      ]
     },
     "execution_count": 15,
     "metadata": {},
     "output_type": "execute_result"
    }
   ],
   "source": [
    "df.corr()"
   ]
  },
  {
   "cell_type": "markdown",
   "id": "f9bea732",
   "metadata": {},
   "source": [
    "# step 3 : Data processing"
   ]
  },
  {
   "cell_type": "code",
   "execution_count": 16,
   "id": "c53c711e",
   "metadata": {},
   "outputs": [
    {
     "data": {
      "text/plain": [
       "age         0\n",
       "sex         0\n",
       "bmi         0\n",
       "children    0\n",
       "smoker      0\n",
       "region      0\n",
       "expenses    0\n",
       "dtype: int64"
      ]
     },
     "execution_count": 16,
     "metadata": {},
     "output_type": "execute_result"
    }
   ],
   "source": [
    "df.isnull().sum()"
   ]
  },
  {
   "cell_type": "code",
   "execution_count": 17,
   "id": "c5a1e085",
   "metadata": {},
   "outputs": [],
   "source": [
    "#drop the region column\n",
    "\n",
    "df.drop(columns='region',inplace=True)"
   ]
  },
  {
   "cell_type": "code",
   "execution_count": 18,
   "id": "5837a623",
   "metadata": {},
   "outputs": [],
   "source": [
    "#Encoding sex columnn\n",
    "\n",
    "df[\"sex\"].replace({'female':0,'male':1},inplace=True)\n",
    "\n",
    "#Encoding  smoker column\n",
    "\n",
    "df['smoker'].replace({'no':0,'yes':1},inplace=True)"
   ]
  },
  {
   "cell_type": "markdown",
   "id": "c4b5cde0",
   "metadata": {},
   "source": [
    "# X & Y"
   ]
  },
  {
   "cell_type": "code",
   "execution_count": 20,
   "id": "1429ed61",
   "metadata": {},
   "outputs": [],
   "source": [
    "x=df.drop(columns='expenses')\n",
    "y=df['expenses']"
   ]
  },
  {
   "cell_type": "code",
   "execution_count": 21,
   "id": "d1aa0957",
   "metadata": {},
   "outputs": [],
   "source": [
    "from sklearn.model_selection import train_test_split\n",
    "x_train,x_test,y_train,y_test = train_test_split(x,y,test_size=0.2,random_state=9)\n",
    "\n"
   ]
  },
  {
   "cell_type": "markdown",
   "id": "ca649177",
   "metadata": {},
   "source": [
    "# step 4 : Modelling And Evaluation"
   ]
  },
  {
   "cell_type": "code",
   "execution_count": 24,
   "id": "cd0e484c",
   "metadata": {},
   "outputs": [
    {
     "name": "stdout",
     "output_type": "stream",
     "text": [
      "Train_R2 0.39155822533558726\n",
      "Test_R2 0.3970277641347352\n",
      "0.3889250431216655\n"
     ]
    }
   ],
   "source": [
    "#Modelling\n",
    "\n",
    "from sklearn.linear_model import ElasticNet\n",
    "\n",
    "enr_base=ElasticNet()\n",
    "\n",
    "enr_base.fit(x_train,y_train)\n",
    "\n",
    "##Predictions\n",
    "train_predictions=enr_base.predict(x_train)\n",
    "test_predictions=enr_base.predict(x_test)\n",
    "\n",
    "#Evaluation\n",
    "\n",
    "print(\"Train_R2\",enr_base.score(x_train,y_train))\n",
    "print(\"Test_R2\",enr_base.score(x_test,y_test))\n",
    "\n",
    "#cross val score\n",
    "\n",
    "from sklearn.model_selection import cross_val_score\n",
    "\n",
    "cv=cross_val_score(enr_base,x,y,cv=5).mean()\n",
    "print(cv)"
   ]
  },
  {
   "cell_type": "markdown",
   "id": "2d35956c",
   "metadata": {},
   "source": [
    "# Applying Hyper parameter tunning for ElasticNet regression"
   ]
  },
  {
   "cell_type": "code",
   "execution_count": 26,
   "id": "b381b248",
   "metadata": {},
   "outputs": [
    {
     "data": {
      "text/plain": [
       "{'alpha': 10, 'l1_ratio': 1}"
      ]
     },
     "execution_count": 26,
     "metadata": {},
     "output_type": "execute_result"
    }
   ],
   "source": [
    "from sklearn.model_selection import GridSearchCV\n",
    "\n",
    "#model\n",
    "\n",
    "estimator = ElasticNet()\n",
    "\n",
    "#parameters &values\n",
    "\n",
    "param_grid = {\"alpha\":[0.1,0.2,1,2,3,5,10],\"l1_ratio\":[0.1,0.5,0.75,0.9,0.95,1]}\n",
    "\n",
    "\n",
    "#Identifying the best values of the parameter within given values for the given data\n",
    "\n",
    "model_hp = GridSearchCV(estimator,param_grid,cv=5,scoring='neg_mean_squared_error')\n",
    "\n",
    "model_hp.fit(x_train,y_train)\n",
    "\n",
    "model_hp.best_params_"
   ]
  },
  {
   "cell_type": "markdown",
   "id": "b148883a",
   "metadata": {},
   "source": [
    "# Rebuild ElasticNet Model Using best Hyperparameters"
   ]
  },
  {
   "cell_type": "code",
   "execution_count": 33,
   "id": "40466e23",
   "metadata": {},
   "outputs": [
    {
     "name": "stdout",
     "output_type": "stream",
     "text": [
      "Intersept -11449.28756082979\n",
      "Coefficient [ 2.56838444e+02 -6.43158858e-01  3.04860929e+02  4.34656692e+02\n",
      "  2.35631810e+04]\n",
      "Train R2: 0.7433083585849637\n",
      "test_R2 0.7755411716841649\n",
      "0.7467299170217538\n"
     ]
    }
   ],
   "source": [
    "#Modelling \n",
    "\n",
    "enr_best = ElasticNet(alpha=10,l1_ratio=1)\n",
    "enr_best.fit(x_train,y_train)\n",
    "\n",
    "print(\"Intersept\",enr_best.intercept_)\n",
    "print(\"Coefficient\",enr_best.coef_)\n",
    "\n",
    "#predictions\n",
    "\n",
    "train_predictions= enr_best.predict(x_train)\n",
    "test_predictions= enr_best.predict(x_test)\n",
    "\n",
    "#Evaluation\n",
    "\n",
    "print(\"Train R2:\",enr_best.score(x_train,y_train))\n",
    "print(\"test_R2\",enr_best.score(x_test,y_test))\n",
    "\n",
    "#Cross_val_Score\n",
    "\n",
    "from sklearn.model_selection import cross_val_score\n",
    "\n",
    "cv= cross_val_score(enr_best,x,y,cv=5).mean()\n",
    "print(cv)\n"
   ]
  },
  {
   "cell_type": "markdown",
   "id": "835bfa02",
   "metadata": {},
   "source": [
    "# Predictions on new data"
   ]
  },
  {
   "cell_type": "code",
   "execution_count": 34,
   "id": "cd840b68",
   "metadata": {},
   "outputs": [],
   "source": [
    "input_data= {\"age\":31,\n",
    "            \"sex\":\"female\",\n",
    "            \"bmi\":25.74,\n",
    "            \"children\":0,\n",
    "            \"smoker\":\"no\",\n",
    "            \"region\":\"northeast\"}\n"
   ]
  },
  {
   "cell_type": "markdown",
   "id": "e83aa250",
   "metadata": {},
   "source": [
    "# Preprocessing data"
   ]
  },
  {
   "cell_type": "code",
   "execution_count": 35,
   "id": "39c3f68e",
   "metadata": {},
   "outputs": [],
   "source": [
    "df_test = pd.DataFrame(input_data,index=[0])\n",
    "\n",
    "df_test.drop('region',axis=1,inplace=True)\n",
    "\n",
    "df_test['sex'].replace({'female':0,'male':1},inplace=True)\n",
    "\n",
    "df_test['smoker'].replace({'no':0,\"yes\":1},inplace=True)\n",
    "\n",
    "transformed_data=df_test"
   ]
  },
  {
   "cell_type": "markdown",
   "id": "424b83b1",
   "metadata": {},
   "source": [
    "# predict"
   ]
  },
  {
   "cell_type": "code",
   "execution_count": 36,
   "id": "e13ac426",
   "metadata": {},
   "outputs": [
    {
     "data": {
      "text/plain": [
       "array([4359.82451623])"
      ]
     },
     "execution_count": 36,
     "metadata": {},
     "output_type": "execute_result"
    }
   ],
   "source": [
    "enr_best.predict(transformed_data)"
   ]
  },
  {
   "cell_type": "code",
   "execution_count": null,
   "id": "be1116c8",
   "metadata": {},
   "outputs": [],
   "source": []
  }
 ],
 "metadata": {
  "kernelspec": {
   "display_name": "Python 3 (ipykernel)",
   "language": "python",
   "name": "python3"
  },
  "language_info": {
   "codemirror_mode": {
    "name": "ipython",
    "version": 3
   },
   "file_extension": ".py",
   "mimetype": "text/x-python",
   "name": "python",
   "nbconvert_exporter": "python",
   "pygments_lexer": "ipython3",
   "version": "3.11.3"
  }
 },
 "nbformat": 4,
 "nbformat_minor": 5
}
