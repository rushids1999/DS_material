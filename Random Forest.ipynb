{
 "cells": [
  {
   "cell_type": "markdown",
   "id": "032537e7",
   "metadata": {},
   "source": [
    "# Step-1: Business problem\n",
    "\n",
    "Our goal is create a model that can help predict a species of a penguin based on physical attributes, then we can use that model to help reserchers classify penguins in the field, insted of nedding an experienced blologist."
   ]
  },
  {
   "cell_type": "code",
   "execution_count": 2,
   "id": "d3728cd3",
   "metadata": {},
   "outputs": [],
   "source": [
    "import numpy as np\n",
    "import pandas as pd\n",
    "import seaborn as sns\n",
    "import matplotlib.pyplot as plt\n"
   ]
  },
  {
   "cell_type": "code",
   "execution_count": 6,
   "id": "440612f8",
   "metadata": {},
   "outputs": [
    {
     "data": {
      "text/html": [
       "<div>\n",
       "<style scoped>\n",
       "    .dataframe tbody tr th:only-of-type {\n",
       "        vertical-align: middle;\n",
       "    }\n",
       "\n",
       "    .dataframe tbody tr th {\n",
       "        vertical-align: top;\n",
       "    }\n",
       "\n",
       "    .dataframe thead th {\n",
       "        text-align: right;\n",
       "    }\n",
       "</style>\n",
       "<table border=\"1\" class=\"dataframe\">\n",
       "  <thead>\n",
       "    <tr style=\"text-align: right;\">\n",
       "      <th></th>\n",
       "      <th>species</th>\n",
       "      <th>island</th>\n",
       "      <th>culmen_length_mm</th>\n",
       "      <th>culmen_depth_mm</th>\n",
       "      <th>flipper_length_mm</th>\n",
       "      <th>body_mass_g</th>\n",
       "      <th>sex</th>\n",
       "    </tr>\n",
       "  </thead>\n",
       "  <tbody>\n",
       "    <tr>\n",
       "      <th>0</th>\n",
       "      <td>Adelie</td>\n",
       "      <td>Torgersen</td>\n",
       "      <td>39.1</td>\n",
       "      <td>18.7</td>\n",
       "      <td>181.0</td>\n",
       "      <td>3750.0</td>\n",
       "      <td>MALE</td>\n",
       "    </tr>\n",
       "    <tr>\n",
       "      <th>1</th>\n",
       "      <td>Adelie</td>\n",
       "      <td>Torgersen</td>\n",
       "      <td>39.5</td>\n",
       "      <td>17.4</td>\n",
       "      <td>186.0</td>\n",
       "      <td>3800.0</td>\n",
       "      <td>FEMALE</td>\n",
       "    </tr>\n",
       "    <tr>\n",
       "      <th>2</th>\n",
       "      <td>Adelie</td>\n",
       "      <td>Torgersen</td>\n",
       "      <td>40.3</td>\n",
       "      <td>18.0</td>\n",
       "      <td>195.0</td>\n",
       "      <td>3250.0</td>\n",
       "      <td>FEMALE</td>\n",
       "    </tr>\n",
       "    <tr>\n",
       "      <th>3</th>\n",
       "      <td>Adelie</td>\n",
       "      <td>Torgersen</td>\n",
       "      <td>NaN</td>\n",
       "      <td>NaN</td>\n",
       "      <td>NaN</td>\n",
       "      <td>NaN</td>\n",
       "      <td>NaN</td>\n",
       "    </tr>\n",
       "    <tr>\n",
       "      <th>4</th>\n",
       "      <td>Adelie</td>\n",
       "      <td>Torgersen</td>\n",
       "      <td>36.7</td>\n",
       "      <td>19.3</td>\n",
       "      <td>193.0</td>\n",
       "      <td>3450.0</td>\n",
       "      <td>FEMALE</td>\n",
       "    </tr>\n",
       "  </tbody>\n",
       "</table>\n",
       "</div>"
      ],
      "text/plain": [
       "  species     island  culmen_length_mm  culmen_depth_mm  flipper_length_mm  \\\n",
       "0  Adelie  Torgersen              39.1             18.7              181.0   \n",
       "1  Adelie  Torgersen              39.5             17.4              186.0   \n",
       "2  Adelie  Torgersen              40.3             18.0              195.0   \n",
       "3  Adelie  Torgersen               NaN              NaN                NaN   \n",
       "4  Adelie  Torgersen              36.7             19.3              193.0   \n",
       "\n",
       "   body_mass_g     sex  \n",
       "0       3750.0    MALE  \n",
       "1       3800.0  FEMALE  \n",
       "2       3250.0  FEMALE  \n",
       "3          NaN     NaN  \n",
       "4       3450.0  FEMALE  "
      ]
     },
     "execution_count": 6,
     "metadata": {},
     "output_type": "execute_result"
    }
   ],
   "source": [
    "df=pd.read_csv(\"penguins_size.csv\")\n",
    "df.head()"
   ]
  },
  {
   "cell_type": "markdown",
   "id": "bed218a2",
   "metadata": {},
   "source": [
    "# step-2: Data Understanding"
   ]
  },
  {
   "cell_type": "markdown",
   "id": "34fa9d98",
   "metadata": {},
   "source": [
    "Penguins_size.csv: simplified data from original prnguin data set"
   ]
  },
  {
   "cell_type": "markdown",
   "id": "308e34ad",
   "metadata": {},
   "source": [
    "* species: penguin species (Adelie, chinstrap or Gentoo)\n",
    "* culmen_lenth_mm:culmen lenth(mm)\n",
    "* culmen_depth_mm: culmen depth(mm)\n",
    "* Flipper_lenth_mm:flipper lenth in mm\n",
    "* body_mass_g:body mass(g)\n",
    "* island : island name(Dream,Trgersen, or Biscoe)\n",
    "* Sex: Penguin sex"
   ]
  },
  {
   "cell_type": "code",
   "execution_count": 8,
   "id": "59359041",
   "metadata": {},
   "outputs": [
    {
     "name": "stdout",
     "output_type": "stream",
     "text": [
      "<class 'pandas.core.frame.DataFrame'>\n",
      "RangeIndex: 344 entries, 0 to 343\n",
      "Data columns (total 7 columns):\n",
      " #   Column             Non-Null Count  Dtype  \n",
      "---  ------             --------------  -----  \n",
      " 0   species            344 non-null    object \n",
      " 1   island             344 non-null    object \n",
      " 2   culmen_length_mm   342 non-null    float64\n",
      " 3   culmen_depth_mm    342 non-null    float64\n",
      " 4   flipper_length_mm  342 non-null    float64\n",
      " 5   body_mass_g        342 non-null    float64\n",
      " 6   sex                334 non-null    object \n",
      "dtypes: float64(4), object(3)\n",
      "memory usage: 18.9+ KB\n"
     ]
    }
   ],
   "source": [
    "df.info()"
   ]
  },
  {
   "cell_type": "markdown",
   "id": "22496e0d",
   "metadata": {},
   "source": [
    "# step-3: Data Preprocessing"
   ]
  },
  {
   "cell_type": "code",
   "execution_count": 12,
   "id": "c7573fac",
   "metadata": {},
   "outputs": [
    {
     "data": {
      "text/plain": [
       "species              0\n",
       "island               0\n",
       "culmen_length_mm     0\n",
       "culmen_depth_mm      0\n",
       "flipper_length_mm    0\n",
       "body_mass_g          0\n",
       "sex                  0\n",
       "dtype: int64"
      ]
     },
     "execution_count": 12,
     "metadata": {},
     "output_type": "execute_result"
    }
   ],
   "source": [
    "df.isnull().sum()"
   ]
  },
  {
   "cell_type": "code",
   "execution_count": 13,
   "id": "9df5ab15",
   "metadata": {},
   "outputs": [],
   "source": [
    "#Dropping the missing values\n",
    "\n",
    "df=df.dropna()"
   ]
  },
  {
   "cell_type": "code",
   "execution_count": 17,
   "id": "383422a2",
   "metadata": {},
   "outputs": [
    {
     "data": {
      "text/plain": [
       "(333, 7)"
      ]
     },
     "execution_count": 17,
     "metadata": {},
     "output_type": "execute_result"
    }
   ],
   "source": [
    "df=df[df['sex']!='.']\n",
    "df.shape"
   ]
  },
  {
   "cell_type": "markdown",
   "id": "d04b38db",
   "metadata": {},
   "source": [
    "# X & Y"
   ]
  },
  {
   "cell_type": "code",
   "execution_count": 20,
   "id": "13d5f200",
   "metadata": {},
   "outputs": [],
   "source": [
    "x=pd.get_dummies(df.drop('species',axis=1),drop_first=True)\n",
    "y=df['species']"
   ]
  },
  {
   "cell_type": "markdown",
   "id": "2ad6841c",
   "metadata": {},
   "source": [
    "# Train test split"
   ]
  },
  {
   "cell_type": "code",
   "execution_count": 22,
   "id": "275a2943",
   "metadata": {},
   "outputs": [],
   "source": [
    "from sklearn.model_selection import train_test_split\n",
    "x_train,x_test,y_train,y_test =train_test_split(x,y,test_size=3,random_state=0)"
   ]
  },
  {
   "cell_type": "markdown",
   "id": "a190d0e1",
   "metadata": {},
   "source": [
    "# step-4,5:Modelling and Evaluation"
   ]
  },
  {
   "cell_type": "code",
   "execution_count": 24,
   "id": "7a0e4a2b",
   "metadata": {},
   "outputs": [
    {
     "name": "stdout",
     "output_type": "stream",
     "text": [
      "Train accuracy: 1.0\n",
      "Test accuracy: 1.0\n",
      "Cross Validation Score: 0.9849841700587969\n"
     ]
    }
   ],
   "source": [
    "#Random forest classifier with default parameters\n",
    "from sklearn.ensemble import RandomForestClassifier\n",
    "\n",
    "model=RandomForestClassifier(random_state=0)\n",
    "model.fit(x_train,y_train)\n",
    "\n",
    "#prediction\n",
    "\n",
    "ypred_train=model.predict(x_train)\n",
    "ypred_test=model.predict(x_test)\n",
    "\n",
    "#Evaluation\n",
    "\n",
    "#1.Train test accuracy\n",
    "\n",
    "from sklearn.metrics import accuracy_score\n",
    "print(\"Train accuracy:\",accuracy_score(ypred_train,y_train))\n",
    "print(\"Test accuracy:\",accuracy_score(ypred_test,y_test))\n",
    "\n",
    "#2 .Cross validation score\n",
    "\n",
    "from sklearn.model_selection import cross_val_score\n",
    "scores=cross_val_score(model,x,y,cv=5)\n",
    "print(\"Cross Validation Score:\",scores.mean())"
   ]
  },
  {
   "cell_type": "markdown",
   "id": "0891a3f8",
   "metadata": {},
   "source": [
    "# Importans of each feature given by this model"
   ]
  },
  {
   "cell_type": "code",
   "execution_count": 25,
   "id": "0a1e075d",
   "metadata": {},
   "outputs": [
    {
     "data": {
      "text/plain": [
       "array([0.33184081, 0.17872902, 0.27204886, 0.08056588, 0.1093975 ,\n",
       "       0.02240916, 0.00500878])"
      ]
     },
     "execution_count": 25,
     "metadata": {},
     "output_type": "execute_result"
    }
   ],
   "source": [
    "model.feature_importances_"
   ]
  },
  {
   "cell_type": "code",
   "execution_count": 26,
   "id": "3b2be47f",
   "metadata": {},
   "outputs": [
    {
     "data": {
      "text/html": [
       "<div>\n",
       "<style scoped>\n",
       "    .dataframe tbody tr th:only-of-type {\n",
       "        vertical-align: middle;\n",
       "    }\n",
       "\n",
       "    .dataframe tbody tr th {\n",
       "        vertical-align: top;\n",
       "    }\n",
       "\n",
       "    .dataframe thead th {\n",
       "        text-align: right;\n",
       "    }\n",
       "</style>\n",
       "<table border=\"1\" class=\"dataframe\">\n",
       "  <thead>\n",
       "    <tr style=\"text-align: right;\">\n",
       "      <th></th>\n",
       "      <th>Feature Importance</th>\n",
       "    </tr>\n",
       "  </thead>\n",
       "  <tbody>\n",
       "    <tr>\n",
       "      <th>culmen_length_mm</th>\n",
       "      <td>0.331841</td>\n",
       "    </tr>\n",
       "    <tr>\n",
       "      <th>culmen_depth_mm</th>\n",
       "      <td>0.178729</td>\n",
       "    </tr>\n",
       "    <tr>\n",
       "      <th>flipper_length_mm</th>\n",
       "      <td>0.272049</td>\n",
       "    </tr>\n",
       "    <tr>\n",
       "      <th>body_mass_g</th>\n",
       "      <td>0.080566</td>\n",
       "    </tr>\n",
       "    <tr>\n",
       "      <th>island_Dream</th>\n",
       "      <td>0.109397</td>\n",
       "    </tr>\n",
       "    <tr>\n",
       "      <th>island_Torgersen</th>\n",
       "      <td>0.022409</td>\n",
       "    </tr>\n",
       "    <tr>\n",
       "      <th>sex_MALE</th>\n",
       "      <td>0.005009</td>\n",
       "    </tr>\n",
       "  </tbody>\n",
       "</table>\n",
       "</div>"
      ],
      "text/plain": [
       "                   Feature Importance\n",
       "culmen_length_mm             0.331841\n",
       "culmen_depth_mm              0.178729\n",
       "flipper_length_mm            0.272049\n",
       "body_mass_g                  0.080566\n",
       "island_Dream                 0.109397\n",
       "island_Torgersen             0.022409\n",
       "sex_MALE                     0.005009"
      ]
     },
     "execution_count": 26,
     "metadata": {},
     "output_type": "execute_result"
    }
   ],
   "source": [
    "pd.DataFrame(index=x.columns,data=model.feature_importances_,columns=[\"Feature Importance\"])\n",
    "\n"
   ]
  },
  {
   "cell_type": "markdown",
   "id": "81307b1f",
   "metadata": {},
   "source": [
    "# Hyper Parameter tunning"
   ]
  },
  {
   "cell_type": "code",
   "execution_count": 29,
   "id": "21cbfaf4",
   "metadata": {},
   "outputs": [
    {
     "data": {
      "text/plain": [
       "{'n_estimators': 7}"
      ]
     },
     "execution_count": 29,
     "metadata": {},
     "output_type": "execute_result"
    }
   ],
   "source": [
    "from sklearn.model_selection import GridSearchCV\n",
    "\n",
    "#model \n",
    "estimator = RandomForestClassifier(random_state=0)\n",
    "\n",
    "#parameters (which you want to tune and identify the best)\n",
    "\n",
    "param_grid = {'n_estimators':list(range(1,101))}\n",
    "\n",
    "grid = GridSearchCV(estimator,param_grid,scoring='accuracy',cv=5)\n",
    "\n",
    "grid.fit(x_train,y_train)\n",
    "\n",
    "grid.best_params_"
   ]
  },
  {
   "cell_type": "markdown",
   "id": "4ed0206d",
   "metadata": {},
   "source": [
    "# Random Forest model With best Hyperparameters"
   ]
  },
  {
   "cell_type": "code",
   "execution_count": 33,
   "id": "fa53eb9e",
   "metadata": {},
   "outputs": [
    {
     "name": "stdout",
     "output_type": "stream",
     "text": [
      "Train Accuracy 0.9939393939393939\n",
      "Test Accuracy 1.0\n",
      "Cross_val_score: 0.9819990954319312\n"
     ]
    }
   ],
   "source": [
    "model=RandomForestClassifier(n_estimators=8,random_state=0)\n",
    "\n",
    "model.fit(x_train,y_train)\n",
    "\n",
    "ypred_train=model.predict(x_train)\n",
    "ypred_test=model.predict(x_test)\n",
    "\n",
    "print(\"Train Accuracy\",accuracy_score(ypred_train,y_train))\n",
    "print(\"Test Accuracy\",accuracy_score(ypred_test,y_test))\n",
    "\n",
    "scores=cross_val_score(model,x,y,cv=5)\n",
    "print(\"Cross_val_score:\",scores.mean())"
   ]
  },
  {
   "cell_type": "code",
   "execution_count": null,
   "id": "5e787c52",
   "metadata": {},
   "outputs": [],
   "source": []
  }
 ],
 "metadata": {
  "kernelspec": {
   "display_name": "Python 3 (ipykernel)",
   "language": "python",
   "name": "python3"
  },
  "language_info": {
   "codemirror_mode": {
    "name": "ipython",
    "version": 3
   },
   "file_extension": ".py",
   "mimetype": "text/x-python",
   "name": "python",
   "nbconvert_exporter": "python",
   "pygments_lexer": "ipython3",
   "version": "3.11.3"
  }
 },
 "nbformat": 4,
 "nbformat_minor": 5
}
