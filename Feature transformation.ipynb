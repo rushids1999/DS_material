{
 "cells": [
  {
   "cell_type": "markdown",
   "id": "b7d6ec26",
   "metadata": {},
   "source": [
    "# Feature processing : Transformation\n",
    "\n",
    "* Converting skewed data to normal"
   ]
  },
  {
   "cell_type": "markdown",
   "id": "556adb38",
   "metadata": {},
   "source": [
    "Right- Skewed ---->Nth root or log(x)\n",
    "\n",
    "Left-Skewed--------->Nth power or exp"
   ]
  },
  {
   "cell_type": "code",
   "execution_count": 50,
   "id": "e8fe994b",
   "metadata": {},
   "outputs": [],
   "source": [
    "import numpy as np\n",
    "import pandas as pd"
   ]
  },
  {
   "cell_type": "code",
   "execution_count": 51,
   "id": "7118143d",
   "metadata": {},
   "outputs": [
    {
     "data": {
      "text/html": [
       "<div>\n",
       "<style scoped>\n",
       "    .dataframe tbody tr th:only-of-type {\n",
       "        vertical-align: middle;\n",
       "    }\n",
       "\n",
       "    .dataframe tbody tr th {\n",
       "        vertical-align: top;\n",
       "    }\n",
       "\n",
       "    .dataframe thead th {\n",
       "        text-align: right;\n",
       "    }\n",
       "</style>\n",
       "<table border=\"1\" class=\"dataframe\">\n",
       "  <thead>\n",
       "    <tr style=\"text-align: right;\">\n",
       "      <th></th>\n",
       "      <th>PassengerId</th>\n",
       "      <th>Survived</th>\n",
       "      <th>Pclass</th>\n",
       "      <th>Name</th>\n",
       "      <th>Sex</th>\n",
       "      <th>Age</th>\n",
       "      <th>SibSp</th>\n",
       "      <th>Parch</th>\n",
       "      <th>Ticket</th>\n",
       "      <th>Fare</th>\n",
       "      <th>Cabin</th>\n",
       "      <th>Embarked</th>\n",
       "    </tr>\n",
       "  </thead>\n",
       "  <tbody>\n",
       "    <tr>\n",
       "      <th>0</th>\n",
       "      <td>1</td>\n",
       "      <td>0</td>\n",
       "      <td>3</td>\n",
       "      <td>Braund, Mr. Owen Harris</td>\n",
       "      <td>male</td>\n",
       "      <td>22.0</td>\n",
       "      <td>1</td>\n",
       "      <td>0</td>\n",
       "      <td>A/5 21171</td>\n",
       "      <td>7.2500</td>\n",
       "      <td>NaN</td>\n",
       "      <td>S</td>\n",
       "    </tr>\n",
       "    <tr>\n",
       "      <th>1</th>\n",
       "      <td>2</td>\n",
       "      <td>1</td>\n",
       "      <td>1</td>\n",
       "      <td>Cumings, Mrs. John Bradley (Florence Briggs Th...</td>\n",
       "      <td>female</td>\n",
       "      <td>38.0</td>\n",
       "      <td>1</td>\n",
       "      <td>0</td>\n",
       "      <td>PC 17599</td>\n",
       "      <td>71.2833</td>\n",
       "      <td>C85</td>\n",
       "      <td>C</td>\n",
       "    </tr>\n",
       "    <tr>\n",
       "      <th>2</th>\n",
       "      <td>3</td>\n",
       "      <td>1</td>\n",
       "      <td>3</td>\n",
       "      <td>Heikkinen, Miss. Laina</td>\n",
       "      <td>female</td>\n",
       "      <td>26.0</td>\n",
       "      <td>0</td>\n",
       "      <td>0</td>\n",
       "      <td>STON/O2. 3101282</td>\n",
       "      <td>7.9250</td>\n",
       "      <td>NaN</td>\n",
       "      <td>S</td>\n",
       "    </tr>\n",
       "    <tr>\n",
       "      <th>3</th>\n",
       "      <td>4</td>\n",
       "      <td>1</td>\n",
       "      <td>1</td>\n",
       "      <td>Futrelle, Mrs. Jacques Heath (Lily May Peel)</td>\n",
       "      <td>female</td>\n",
       "      <td>35.0</td>\n",
       "      <td>1</td>\n",
       "      <td>0</td>\n",
       "      <td>113803</td>\n",
       "      <td>53.1000</td>\n",
       "      <td>C123</td>\n",
       "      <td>S</td>\n",
       "    </tr>\n",
       "    <tr>\n",
       "      <th>4</th>\n",
       "      <td>5</td>\n",
       "      <td>0</td>\n",
       "      <td>3</td>\n",
       "      <td>Allen, Mr. William Henry</td>\n",
       "      <td>male</td>\n",
       "      <td>35.0</td>\n",
       "      <td>0</td>\n",
       "      <td>0</td>\n",
       "      <td>373450</td>\n",
       "      <td>8.0500</td>\n",
       "      <td>NaN</td>\n",
       "      <td>S</td>\n",
       "    </tr>\n",
       "  </tbody>\n",
       "</table>\n",
       "</div>"
      ],
      "text/plain": [
       "   PassengerId  Survived  Pclass  \\\n",
       "0            1         0       3   \n",
       "1            2         1       1   \n",
       "2            3         1       3   \n",
       "3            4         1       1   \n",
       "4            5         0       3   \n",
       "\n",
       "                                                Name     Sex   Age  SibSp  \\\n",
       "0                            Braund, Mr. Owen Harris    male  22.0      1   \n",
       "1  Cumings, Mrs. John Bradley (Florence Briggs Th...  female  38.0      1   \n",
       "2                             Heikkinen, Miss. Laina  female  26.0      0   \n",
       "3       Futrelle, Mrs. Jacques Heath (Lily May Peel)  female  35.0      1   \n",
       "4                           Allen, Mr. William Henry    male  35.0      0   \n",
       "\n",
       "   Parch            Ticket     Fare Cabin Embarked  \n",
       "0      0         A/5 21171   7.2500   NaN        S  \n",
       "1      0          PC 17599  71.2833   C85        C  \n",
       "2      0  STON/O2. 3101282   7.9250   NaN        S  \n",
       "3      0            113803  53.1000  C123        S  \n",
       "4      0            373450   8.0500   NaN        S  "
      ]
     },
     "execution_count": 51,
     "metadata": {},
     "output_type": "execute_result"
    }
   ],
   "source": [
    "data= pd.read_csv('titanic.csv')\n",
    "data.head()"
   ]
  },
  {
   "cell_type": "code",
   "execution_count": 52,
   "id": "8aa47aec",
   "metadata": {},
   "outputs": [],
   "source": [
    "data=pd.read_csv('titanic.csv',usecols=['Fare'])"
   ]
  },
  {
   "cell_type": "code",
   "execution_count": 53,
   "id": "85f33459",
   "metadata": {},
   "outputs": [
    {
     "data": {
      "text/html": [
       "<div>\n",
       "<style scoped>\n",
       "    .dataframe tbody tr th:only-of-type {\n",
       "        vertical-align: middle;\n",
       "    }\n",
       "\n",
       "    .dataframe tbody tr th {\n",
       "        vertical-align: top;\n",
       "    }\n",
       "\n",
       "    .dataframe thead th {\n",
       "        text-align: right;\n",
       "    }\n",
       "</style>\n",
       "<table border=\"1\" class=\"dataframe\">\n",
       "  <thead>\n",
       "    <tr style=\"text-align: right;\">\n",
       "      <th></th>\n",
       "      <th>Fare</th>\n",
       "    </tr>\n",
       "  </thead>\n",
       "  <tbody>\n",
       "    <tr>\n",
       "      <th>0</th>\n",
       "      <td>7.2500</td>\n",
       "    </tr>\n",
       "    <tr>\n",
       "      <th>1</th>\n",
       "      <td>71.2833</td>\n",
       "    </tr>\n",
       "    <tr>\n",
       "      <th>2</th>\n",
       "      <td>7.9250</td>\n",
       "    </tr>\n",
       "    <tr>\n",
       "      <th>3</th>\n",
       "      <td>53.1000</td>\n",
       "    </tr>\n",
       "    <tr>\n",
       "      <th>4</th>\n",
       "      <td>8.0500</td>\n",
       "    </tr>\n",
       "  </tbody>\n",
       "</table>\n",
       "</div>"
      ],
      "text/plain": [
       "      Fare\n",
       "0   7.2500\n",
       "1  71.2833\n",
       "2   7.9250\n",
       "3  53.1000\n",
       "4   8.0500"
      ]
     },
     "execution_count": 53,
     "metadata": {},
     "output_type": "execute_result"
    }
   ],
   "source": [
    "data.head()"
   ]
  },
  {
   "cell_type": "code",
   "execution_count": 54,
   "id": "0e46d2b0",
   "metadata": {},
   "outputs": [
    {
     "data": {
      "text/plain": [
       "4.787316519674893"
      ]
     },
     "execution_count": 54,
     "metadata": {},
     "output_type": "execute_result"
    }
   ],
   "source": [
    "data['Fare'].skew()"
   ]
  },
  {
   "cell_type": "markdown",
   "id": "f2cb1b5c",
   "metadata": {},
   "source": [
    "# Root transformation"
   ]
  },
  {
   "cell_type": "code",
   "execution_count": 55,
   "id": "6fb1b2c9",
   "metadata": {},
   "outputs": [
    {
     "data": {
      "text/plain": [
       "0.00982006067812734"
      ]
     },
     "execution_count": 55,
     "metadata": {},
     "output_type": "execute_result"
    }
   ],
   "source": [
    "data[\"sqr_Fare\"]=data['Fare']**(1/4.7)\n",
    "data[\"sqr_Fare\"].skew()"
   ]
  },
  {
   "cell_type": "markdown",
   "id": "7d1e47e1",
   "metadata": {},
   "source": [
    "# Logirithmic Transformation"
   ]
  },
  {
   "cell_type": "code",
   "execution_count": 56,
   "id": "cf9c5b41",
   "metadata": {},
   "outputs": [
    {
     "name": "stderr",
     "output_type": "stream",
     "text": [
      "C:\\Users\\Admin\\anaconda3\\Lib\\site-packages\\pandas\\core\\arraylike.py:402: RuntimeWarning: divide by zero encountered in log\n",
      "  result = getattr(ufunc, method)(*inputs, **kwargs)\n"
     ]
    }
   ],
   "source": [
    "data['Log_Fare']=np.log(data[\"Fare\"])\n",
    "\n",
    "#If we not add 0.001 it will give warning."
   ]
  },
  {
   "cell_type": "code",
   "execution_count": 57,
   "id": "ea4c9cc2",
   "metadata": {},
   "outputs": [
    {
     "data": {
      "text/plain": [
       "-0.9166865254725971"
      ]
     },
     "execution_count": 57,
     "metadata": {},
     "output_type": "execute_result"
    }
   ],
   "source": [
    "data['Log_Fare']=np.log(data[\"Fare\"]+0.1)\n",
    "#add 0.001 with each value it will not affect.\n",
    "data[\"Log_Fare\"].skew()"
   ]
  },
  {
   "cell_type": "markdown",
   "id": "ed99c56b",
   "metadata": {},
   "source": [
    "# Reciprocal transformation"
   ]
  },
  {
   "cell_type": "code",
   "execution_count": 36,
   "id": "f37ce4f7",
   "metadata": {},
   "outputs": [
    {
     "data": {
      "text/plain": [
       "7.523650082079874"
      ]
     },
     "execution_count": 36,
     "metadata": {},
     "output_type": "execute_result"
    }
   ],
   "source": [
    "data['Rec_Fare']=1/(data['Fare']+0.01)\n",
    "data['Rec_Fare'].skew()"
   ]
  },
  {
   "cell_type": "markdown",
   "id": "97751455",
   "metadata": {},
   "source": [
    "# BoxCox"
   ]
  },
  {
   "cell_type": "markdown",
   "id": "7cabd7ec",
   "metadata": {},
   "source": [
    "The Box-Cox transformation is defined as:\n",
    "    \n",
    "(X**lamda-1)/lamda\n",
    "\n",
    "\n",
    "Where Y is the response variable and lamda is the transformation parameter. lamda varies from -5 to 5.In the transformation, all values of lamda are considered and the optional value for a given variable selected.\n"
   ]
  },
  {
   "cell_type": "code",
   "execution_count": 38,
   "id": "8d3faf32",
   "metadata": {},
   "outputs": [],
   "source": [
    "from scipy import stats "
   ]
  },
  {
   "cell_type": "code",
   "execution_count": 42,
   "id": "146ab721",
   "metadata": {},
   "outputs": [],
   "source": [
    "#Transform training data & save lamda value\n",
    "\n",
    "data[\"Fare_boxcox\"], param=stats.boxcox(data.Fare+0.01)"
   ]
  },
  {
   "cell_type": "code",
   "execution_count": 43,
   "id": "5ca2ed70",
   "metadata": {},
   "outputs": [
    {
     "name": "stdout",
     "output_type": "stream",
     "text": [
      "lamda= 0.18091321955494596\n"
     ]
    }
   ],
   "source": [
    "print(\"lamda=\",param)"
   ]
  },
  {
   "cell_type": "code",
   "execution_count": 44,
   "id": "da9da609",
   "metadata": {},
   "outputs": [
    {
     "data": {
      "text/plain": [
       "0.25282461235568676"
      ]
     },
     "execution_count": 44,
     "metadata": {},
     "output_type": "execute_result"
    }
   ],
   "source": [
    "data[\"Fare_boxcox\"].skew()"
   ]
  },
  {
   "cell_type": "markdown",
   "id": "8512e5a5",
   "metadata": {},
   "source": [
    "#apply above 4 method and which method give closest to 0 select this method for feature transformation.(Not fixed)."
   ]
  },
  {
   "cell_type": "markdown",
   "id": "bf21a959",
   "metadata": {},
   "source": [
    "# For Left Skewed data.\n",
    "\n",
    "* Exponentioal\n",
    "\n",
    "data[\"Fare_exp\"]=np.exp(data['Fare'])\n",
    "\n",
    "\n",
    "\n",
    "* Nth power\n",
    "\n",
    "data[\"Fare\"]=data[\"Fare\"]*2"
   ]
  },
  {
   "cell_type": "code",
   "execution_count": 76,
   "id": "abf85527",
   "metadata": {},
   "outputs": [
    {
     "data": {
      "text/plain": [
       "Fare            4.787317\n",
       "sqr_Fare        0.009820\n",
       "Log_Fare       -0.916687\n",
       "Log_Fare_exp    4.787317\n",
       "Log_Fare_nth   -0.916687\n",
       "dtype: float64"
      ]
     },
     "execution_count": 76,
     "metadata": {},
     "output_type": "execute_result"
    }
   ],
   "source": [
    "data.skew()"
   ]
  },
  {
   "cell_type": "code",
   "execution_count": 77,
   "id": "09a7c761",
   "metadata": {},
   "outputs": [
    {
     "data": {
      "text/plain": [
       "4.78731651967489"
      ]
     },
     "execution_count": 77,
     "metadata": {},
     "output_type": "execute_result"
    }
   ],
   "source": [
    "data[\"Log_Fare_exp\"]=np.exp(data[\"Log_Fare\"])\n",
    "data[\"Log_Fare_exp\"].skew()"
   ]
  },
  {
   "cell_type": "code",
   "execution_count": null,
   "id": "d359edff",
   "metadata": {},
   "outputs": [],
   "source": []
  },
  {
   "cell_type": "code",
   "execution_count": 78,
   "id": "695f8010",
   "metadata": {},
   "outputs": [
    {
     "data": {
      "text/plain": [
       "-0.9166865254725971"
      ]
     },
     "execution_count": 78,
     "metadata": {},
     "output_type": "execute_result"
    }
   ],
   "source": [
    "data[\"Log_Fare_nth\"]=data[\"Log_Fare\"]*1\n",
    "data[\"Log_Fare_nth\"].skew()"
   ]
  },
  {
   "cell_type": "code",
   "execution_count": null,
   "id": "d17266af",
   "metadata": {},
   "outputs": [],
   "source": []
  },
  {
   "cell_type": "code",
   "execution_count": null,
   "id": "3d63b378",
   "metadata": {},
   "outputs": [],
   "source": []
  }
 ],
 "metadata": {
  "kernelspec": {
   "display_name": "Python 3 (ipykernel)",
   "language": "python",
   "name": "python3"
  },
  "language_info": {
   "codemirror_mode": {
    "name": "ipython",
    "version": 3
   },
   "file_extension": ".py",
   "mimetype": "text/x-python",
   "name": "python",
   "nbconvert_exporter": "python",
   "pygments_lexer": "ipython3",
   "version": "3.11.3"
  }
 },
 "nbformat": 4,
 "nbformat_minor": 5
}
