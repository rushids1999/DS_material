{
 "cells": [
  {
   "cell_type": "code",
   "execution_count": 1,
   "id": "599467e1",
   "metadata": {},
   "outputs": [],
   "source": [
    "import numpy as np"
   ]
  },
  {
   "cell_type": "code",
   "execution_count": 2,
   "id": "e205e7dc",
   "metadata": {},
   "outputs": [],
   "source": [
    "from scipy import stats"
   ]
  },
  {
   "cell_type": "markdown",
   "id": "52d2bd19",
   "metadata": {},
   "source": [
    "# Left Tail test"
   ]
  },
  {
   "cell_type": "markdown",
   "id": "b1d11851",
   "metadata": {},
   "source": [
    "# Question"
   ]
  },
  {
   "cell_type": "markdown",
   "id": "3be47872",
   "metadata": {},
   "source": [
    "A machine is producing perfume bottles with the long term average of 150ml and the standard \n",
    "deviation of 2ml. Four bottles were picked and the average volume was found to be 149ml.Has\n",
    "the average volume min of 150ml? Test with 95% confidence level.\n",
    "\n",
    "\n"
   ]
  },
  {
   "cell_type": "markdown",
   "id": "b2c723f3",
   "metadata": {},
   "source": [
    "# Solution"
   ]
  },
  {
   "cell_type": "markdown",
   "id": "b8e51f7a",
   "metadata": {},
   "source": [
    "* Null Hypothesis: Mean volume >= 150ml\n",
    "    \n",
    "* Alternate Hypothesis : Mean volume <150ml\n",
    "\n",
    "* alpha = 1-0.95 = 0.05\n",
    "\n",
    "* Left tail z test\n",
    "\n",
    "* Z calculated = (observed mesn - population mean)/     standard error\n",
    "\n",
    "* z = (x-miu)/(sigma/sqrt(n))"
   ]
  },
  {
   "cell_type": "code",
   "execution_count": 4,
   "id": "f7d0989d",
   "metadata": {},
   "outputs": [
    {
     "data": {
      "text/plain": [
       "-1.0"
      ]
     },
     "execution_count": 4,
     "metadata": {},
     "output_type": "execute_result"
    }
   ],
   "source": [
    "z_cal=(149-150)/(2/np.sqrt(4))\n",
    "z_cal"
   ]
  },
  {
   "cell_type": "code",
   "execution_count": 5,
   "id": "594d6cc3",
   "metadata": {},
   "outputs": [
    {
     "data": {
      "text/plain": [
       "0.15865525393145707"
      ]
     },
     "execution_count": 5,
     "metadata": {},
     "output_type": "execute_result"
    }
   ],
   "source": [
    "#left tail --->stats.norm.cdf(z_cal)--Comulative distribution function.\n",
    "\n",
    "stats.norm.cdf(-1.0)\n"
   ]
  },
  {
   "cell_type": "markdown",
   "id": "225c2d6d",
   "metadata": {},
   "source": [
    "# Inferences:"
   ]
  },
  {
   "cell_type": "markdown",
   "id": "0d13bc8a",
   "metadata": {},
   "source": [
    "* p > alpha\n",
    "\n",
    "* p high --null fly\n",
    "\n",
    "* Do not reject H0.\n"
   ]
  },
  {
   "cell_type": "markdown",
   "id": "41994c95",
   "metadata": {},
   "source": [
    "# Right tail Test"
   ]
  },
  {
   "cell_type": "markdown",
   "id": "e3ecb6e8",
   "metadata": {},
   "source": [
    "# Questions"
   ]
  },
  {
   "cell_type": "markdown",
   "id": "27b0c19c",
   "metadata": {},
   "source": [
    "The mean response times for a random sample of 30 pizza deliveries is 32 minutes.\n",
    "the population standard deviation is believed to be 10 minutes. \n",
    "The pizza delievery services director wants to perform a hypothesis test. \n",
    "with a=0.05 level of significance, to determone wheather the service goal of 30 minutes or less is being achieved."
   ]
  },
  {
   "cell_type": "markdown",
   "id": "46771907",
   "metadata": {},
   "source": [
    "# solution"
   ]
  },
  {
   "cell_type": "markdown",
   "id": "17c6bc38",
   "metadata": {},
   "source": [
    "* Null Hypothesis: Mean time <=30\n",
    "\n",
    "* Alternative Hypothesis : Mean time >30\n",
    "    \n",
    "* Alpha=0.05\n",
    "\n",
    "* Right Tail z test--->Right tail Rejection\n",
    "\n",
    "* Z caculated = (observed mean-population mean)/standard error\n",
    "\n",
    "* z=(x_miu)/(sigma/np.sqrt(n))\n"
   ]
  },
  {
   "cell_type": "code",
   "execution_count": 9,
   "id": "f765c6fe",
   "metadata": {},
   "outputs": [
    {
     "name": "stdout",
     "output_type": "stream",
     "text": [
      "1.0954451150103321\n"
     ]
    }
   ],
   "source": [
    "Z_cal=(32-30)/(10/np.sqrt(30))\n",
    "print(Z_cal)"
   ]
  },
  {
   "cell_type": "code",
   "execution_count": 10,
   "id": "46cee9f8",
   "metadata": {},
   "outputs": [
    {
     "data": {
      "text/plain": [
       "0.1378565720320355"
      ]
     },
     "execution_count": 10,
     "metadata": {},
     "output_type": "execute_result"
    }
   ],
   "source": [
    "#right tail  ----> 1-norm.cdf(z_cal)\n",
    "1- stats.norm.cdf(1.09)"
   ]
  },
  {
   "cell_type": "code",
   "execution_count": 11,
   "id": "8c9ed7c9",
   "metadata": {},
   "outputs": [
    {
     "data": {
      "text/plain": [
       "0.1378565720320355"
      ]
     },
     "execution_count": 11,
     "metadata": {},
     "output_type": "execute_result"
    }
   ],
   "source": [
    "#right tail --->norm.sf(z_cal) -->Survival function as same.\n",
    "stats.norm.sf(1.09)\n"
   ]
  },
  {
   "cell_type": "markdown",
   "id": "3c3c3134",
   "metadata": {},
   "source": [
    "Inferences:\n",
    "\n",
    "    * p high -- Null fly\n",
    "    \n",
    "    * Do not reject H0.\n",
    "    \n",
    "    * There are not sufficient statistical \n",
    "      evidence to infer that pizza delivery \n",
    "      services not metting the response goal                 of 30 minutes."
   ]
  },
  {
   "cell_type": "markdown",
   "id": "fba0304b",
   "metadata": {},
   "source": [
    "# Two Tail Test"
   ]
  },
  {
   "cell_type": "markdown",
   "id": "26fcbf28",
   "metadata": {},
   "source": [
    "# Questions"
   ]
  },
  {
   "cell_type": "markdown",
   "id": "412ddae6",
   "metadata": {},
   "source": [
    "Assume that a sample of 30 milk carton provides sample\n",
    "mean of 505ml. The population standard deviation is \n",
    "believed to be 10ml. perform a hypothesis test, at the \n",
    "0.03 level of significance, population mean 500ml and \n",
    "to help determine wheather the filling process should\n",
    "continue or be stopped and corrected."
   ]
  },
  {
   "cell_type": "markdown",
   "id": "64f75fcb",
   "metadata": {},
   "source": [
    "# Solution"
   ]
  },
  {
   "cell_type": "markdown",
   "id": "fd99f896",
   "metadata": {},
   "source": [
    "* Null Hypothesis : Mean = 500ml\n",
    "\n",
    "* Alternative Hypothesis : Mean!=500ml\n",
    "    \n",
    "* Two tail Z-Test\n",
    "\n",
    "* Alpha = 0.03\n",
    "\n",
    "* Z calculated = (observed mean-population mean)/standard error\n",
    "\n",
    "* z=(x_miu)/(sigma/np.sqrt(n))"
   ]
  },
  {
   "cell_type": "code",
   "execution_count": 14,
   "id": "0f73897b",
   "metadata": {},
   "outputs": [
    {
     "data": {
      "text/plain": [
       "2.7386127875258306"
      ]
     },
     "execution_count": 14,
     "metadata": {},
     "output_type": "execute_result"
    }
   ],
   "source": [
    "z_cal=(505-500)/(10/np.sqrt(30))\n",
    "z_cal"
   ]
  },
  {
   "cell_type": "code",
   "execution_count": 15,
   "id": "b8e32c15",
   "metadata": {},
   "outputs": [
    {
     "data": {
      "text/plain": [
       "0.00616989932054416"
      ]
     },
     "execution_count": 15,
     "metadata": {},
     "output_type": "execute_result"
    }
   ],
   "source": [
    "#Two tail --->(norm.sf(z_cal))*2\n",
    "pvalue=2*stats.norm.sf(z_cal)\n",
    "pvalue"
   ]
  },
  {
   "cell_type": "markdown",
   "id": "ed697c7b",
   "metadata": {},
   "source": [
    "# Interfernces"
   ]
  },
  {
   "cell_type": "markdown",
   "id": "f184d5da",
   "metadata": {},
   "source": [
    "* p low --> null go\n",
    "\n",
    "* Reject H0.\n",
    "\n",
    "* There is no sufficient evidence to infer that null \n",
    "  Hypothesis is true (i.e. the mean filling quantity is not 500ml)"
   ]
  },
  {
   "cell_type": "markdown",
   "id": "14426b46",
   "metadata": {},
   "source": []
  }
 ],
 "metadata": {
  "kernelspec": {
   "display_name": "Python 3 (ipykernel)",
   "language": "python",
   "name": "python3"
  },
  "language_info": {
   "codemirror_mode": {
    "name": "ipython",
    "version": 3
   },
   "file_extension": ".py",
   "mimetype": "text/x-python",
   "name": "python",
   "nbconvert_exporter": "python",
   "pygments_lexer": "ipython3",
   "version": "3.11.3"
  }
 },
 "nbformat": 4,
 "nbformat_minor": 5
}
