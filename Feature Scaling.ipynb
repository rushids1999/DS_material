{
 "cells": [
  {
   "cell_type": "markdown",
   "id": "ddbf4a62",
   "metadata": {},
   "source": [
    "# Feature Scaling\n",
    "\n",
    "* Feature scaling refers to the methods or techniques used to normalize the range of independent variables \n",
    "  in our data, or in other words, the methods to set the feature value range within a similar scale.\n",
    "\n",
    "* Variables with bigger magnitude/large value range dominate over those with smaller magnitude/value range.\n",
    "\n",
    "* Scale of the features is an important consideration when building machine learning models.\n",
    "\n",
    "* Feature scaling is generally the last step in the data preprocessing pipeline, performed just before training the machine learning algorithms.\n",
    "\n",
    "* preserves the shape of the original distribution.\n",
    "\n",
    "* The minium and maximum values of the diffrent variables may vary \n",
    "\n",
    "* preserve outliers.\n"
   ]
  },
  {
   "cell_type": "markdown",
   "id": "f21bb83a",
   "metadata": {},
   "source": [
    "# Feature Scaling import in some ML Algorithms.\n",
    "\n",
    "* Linear and Logistic Regression\n",
    "\n",
    "* Gradient descent coverages faster when features are   on similar scales\n",
    "\n",
    "* Support Vector Machines\n",
    "\n",
    "* K-Means Clustering\n",
    "\n",
    "* Principal Component analysis(PCA)"
   ]
  },
  {
   "cell_type": "markdown",
   "id": "e51e8e27",
   "metadata": {},
   "source": [
    "# Various Feature Scaling Techniques\n",
    "\n",
    "* Standardisation\n",
    "\n",
    "* Normalisation"
   ]
  },
  {
   "cell_type": "code",
   "execution_count": 2,
   "id": "6e3f6156",
   "metadata": {},
   "outputs": [],
   "source": [
    "import pandas as pd "
   ]
  },
  {
   "cell_type": "code",
   "execution_count": 3,
   "id": "b8f65401",
   "metadata": {},
   "outputs": [
    {
     "data": {
      "text/html": [
       "<div>\n",
       "<style scoped>\n",
       "    .dataframe tbody tr th:only-of-type {\n",
       "        vertical-align: middle;\n",
       "    }\n",
       "\n",
       "    .dataframe tbody tr th {\n",
       "        vertical-align: top;\n",
       "    }\n",
       "\n",
       "    .dataframe thead th {\n",
       "        text-align: right;\n",
       "    }\n",
       "</style>\n",
       "<table border=\"1\" class=\"dataframe\">\n",
       "  <thead>\n",
       "    <tr style=\"text-align: right;\">\n",
       "      <th></th>\n",
       "      <th>Age</th>\n",
       "    </tr>\n",
       "  </thead>\n",
       "  <tbody>\n",
       "    <tr>\n",
       "      <th>0</th>\n",
       "      <td>22.0</td>\n",
       "    </tr>\n",
       "    <tr>\n",
       "      <th>1</th>\n",
       "      <td>38.0</td>\n",
       "    </tr>\n",
       "    <tr>\n",
       "      <th>2</th>\n",
       "      <td>26.0</td>\n",
       "    </tr>\n",
       "    <tr>\n",
       "      <th>3</th>\n",
       "      <td>35.0</td>\n",
       "    </tr>\n",
       "    <tr>\n",
       "      <th>4</th>\n",
       "      <td>35.0</td>\n",
       "    </tr>\n",
       "  </tbody>\n",
       "</table>\n",
       "</div>"
      ],
      "text/plain": [
       "    Age\n",
       "0  22.0\n",
       "1  38.0\n",
       "2  26.0\n",
       "3  35.0\n",
       "4  35.0"
      ]
     },
     "execution_count": 3,
     "metadata": {},
     "output_type": "execute_result"
    }
   ],
   "source": [
    "df=pd.read_csv('titanic.csv',usecols=['Age'])\n",
    "df.head()"
   ]
  },
  {
   "cell_type": "code",
   "execution_count": 4,
   "id": "247b0ec0",
   "metadata": {},
   "outputs": [
    {
     "data": {
      "text/plain": [
       "Age    177\n",
       "dtype: int64"
      ]
     },
     "execution_count": 4,
     "metadata": {},
     "output_type": "execute_result"
    }
   ],
   "source": [
    "df.isnull().sum()"
   ]
  },
  {
   "cell_type": "code",
   "execution_count": 5,
   "id": "935a13f4",
   "metadata": {},
   "outputs": [],
   "source": [
    "df[\"Age\"].fillna(df.Age.median(),inplace=True)"
   ]
  },
  {
   "cell_type": "code",
   "execution_count": 6,
   "id": "48a86abf",
   "metadata": {},
   "outputs": [
    {
     "data": {
      "text/plain": [
       "0      22.0\n",
       "1      38.0\n",
       "2      26.0\n",
       "3      35.0\n",
       "4      35.0\n",
       "       ... \n",
       "886    27.0\n",
       "887    19.0\n",
       "888    28.0\n",
       "889    26.0\n",
       "890    32.0\n",
       "Name: Age, Length: 891, dtype: float64"
      ]
     },
     "execution_count": 6,
     "metadata": {},
     "output_type": "execute_result"
    }
   ],
   "source": [
    "df[\"Age\"]"
   ]
  },
  {
   "cell_type": "markdown",
   "id": "b9e36e31",
   "metadata": {},
   "source": [
    "# Standardization "
   ]
  },
  {
   "cell_type": "markdown",
   "id": "92c5b7b7",
   "metadata": {},
   "source": [
    "Standardisation involes centering the variable mean at zero, and standarising the variance to 1.\n",
    "\n",
    "z=(x-x_mean)/std\n",
    "\n",
    "standardization \n",
    "  \n",
    "    * centers the mean at 0\n",
    "    * Scales the variance at 1\n",
    "    \n",
    "    \n",
    "    \n",
    "    \n",
    "    \n",
    "    \n",
    "    \n",
    "    \n",
    "    "
   ]
  },
  {
   "cell_type": "code",
   "execution_count": 8,
   "id": "600bb42a",
   "metadata": {},
   "outputs": [],
   "source": [
    "# Standarisation : We use the Standardscaler from sklearn library.\n",
    "\n",
    "from sklearn.preprocessing import StandardScaler\n"
   ]
  },
  {
   "cell_type": "code",
   "execution_count": 9,
   "id": "0e5d6841",
   "metadata": {},
   "outputs": [],
   "source": [
    "# Call the function \n",
    "\n",
    "sc=StandardScaler()"
   ]
  },
  {
   "cell_type": "code",
   "execution_count": 10,
   "id": "f503af29",
   "metadata": {},
   "outputs": [],
   "source": [
    "# fit_transform\n",
    "\n",
    "df[\"Age_sc\"]=sc.fit_transform(df[[\"Age\"]])"
   ]
  },
  {
   "cell_type": "code",
   "execution_count": 11,
   "id": "b467d8d0",
   "metadata": {},
   "outputs": [
    {
     "data": {
      "text/html": [
       "<div>\n",
       "<style scoped>\n",
       "    .dataframe tbody tr th:only-of-type {\n",
       "        vertical-align: middle;\n",
       "    }\n",
       "\n",
       "    .dataframe tbody tr th {\n",
       "        vertical-align: top;\n",
       "    }\n",
       "\n",
       "    .dataframe thead th {\n",
       "        text-align: right;\n",
       "    }\n",
       "</style>\n",
       "<table border=\"1\" class=\"dataframe\">\n",
       "  <thead>\n",
       "    <tr style=\"text-align: right;\">\n",
       "      <th></th>\n",
       "      <th>Age</th>\n",
       "      <th>Age_sc</th>\n",
       "    </tr>\n",
       "  </thead>\n",
       "  <tbody>\n",
       "    <tr>\n",
       "      <th>0</th>\n",
       "      <td>22.0</td>\n",
       "      <td>-0.565736</td>\n",
       "    </tr>\n",
       "    <tr>\n",
       "      <th>1</th>\n",
       "      <td>38.0</td>\n",
       "      <td>0.663861</td>\n",
       "    </tr>\n",
       "    <tr>\n",
       "      <th>2</th>\n",
       "      <td>26.0</td>\n",
       "      <td>-0.258337</td>\n",
       "    </tr>\n",
       "    <tr>\n",
       "      <th>3</th>\n",
       "      <td>35.0</td>\n",
       "      <td>0.433312</td>\n",
       "    </tr>\n",
       "    <tr>\n",
       "      <th>4</th>\n",
       "      <td>35.0</td>\n",
       "      <td>0.433312</td>\n",
       "    </tr>\n",
       "    <tr>\n",
       "      <th>...</th>\n",
       "      <td>...</td>\n",
       "      <td>...</td>\n",
       "    </tr>\n",
       "    <tr>\n",
       "      <th>886</th>\n",
       "      <td>27.0</td>\n",
       "      <td>-0.181487</td>\n",
       "    </tr>\n",
       "    <tr>\n",
       "      <th>887</th>\n",
       "      <td>19.0</td>\n",
       "      <td>-0.796286</td>\n",
       "    </tr>\n",
       "    <tr>\n",
       "      <th>888</th>\n",
       "      <td>28.0</td>\n",
       "      <td>-0.104637</td>\n",
       "    </tr>\n",
       "    <tr>\n",
       "      <th>889</th>\n",
       "      <td>26.0</td>\n",
       "      <td>-0.258337</td>\n",
       "    </tr>\n",
       "    <tr>\n",
       "      <th>890</th>\n",
       "      <td>32.0</td>\n",
       "      <td>0.202762</td>\n",
       "    </tr>\n",
       "  </tbody>\n",
       "</table>\n",
       "<p>891 rows × 2 columns</p>\n",
       "</div>"
      ],
      "text/plain": [
       "      Age    Age_sc\n",
       "0    22.0 -0.565736\n",
       "1    38.0  0.663861\n",
       "2    26.0 -0.258337\n",
       "3    35.0  0.433312\n",
       "4    35.0  0.433312\n",
       "..    ...       ...\n",
       "886  27.0 -0.181487\n",
       "887  19.0 -0.796286\n",
       "888  28.0 -0.104637\n",
       "889  26.0 -0.258337\n",
       "890  32.0  0.202762\n",
       "\n",
       "[891 rows x 2 columns]"
      ]
     },
     "execution_count": 11,
     "metadata": {},
     "output_type": "execute_result"
    }
   ],
   "source": [
    "df"
   ]
  },
  {
   "cell_type": "code",
   "execution_count": null,
   "id": "1777a869",
   "metadata": {},
   "outputs": [],
   "source": []
  },
  {
   "cell_type": "markdown",
   "id": "1bfa6534",
   "metadata": {},
   "source": [
    "# Min Max Scaling (CNN---Deep Learning Techniques)"
   ]
  },
  {
   "cell_type": "markdown",
   "id": "d81c17c6",
   "metadata": {},
   "source": [
    "Min MAx Scaling scales the values between 0 to 1.\n",
    "\n",
    "X_scaled=(X-X.min)/(X.max-X.min)"
   ]
  },
  {
   "cell_type": "code",
   "execution_count": 12,
   "id": "b698dcb7",
   "metadata": {},
   "outputs": [],
   "source": [
    "#Normalization: We use the MinmaxScaler from sklearn Library.\n",
    "\n",
    "#Import MinMaxScaler\n",
    "from sklearn.preprocessing import MinMaxScaler"
   ]
  },
  {
   "cell_type": "code",
   "execution_count": 13,
   "id": "98e082f1",
   "metadata": {},
   "outputs": [],
   "source": [
    "# Call the function \n",
    "\n",
    "min_max=MinMaxScaler()"
   ]
  },
  {
   "cell_type": "code",
   "execution_count": 14,
   "id": "4eded3a5",
   "metadata": {},
   "outputs": [
    {
     "data": {
      "text/html": [
       "<div>\n",
       "<style scoped>\n",
       "    .dataframe tbody tr th:only-of-type {\n",
       "        vertical-align: middle;\n",
       "    }\n",
       "\n",
       "    .dataframe tbody tr th {\n",
       "        vertical-align: top;\n",
       "    }\n",
       "\n",
       "    .dataframe thead th {\n",
       "        text-align: right;\n",
       "    }\n",
       "</style>\n",
       "<table border=\"1\" class=\"dataframe\">\n",
       "  <thead>\n",
       "    <tr style=\"text-align: right;\">\n",
       "      <th></th>\n",
       "      <th>Age</th>\n",
       "      <th>Age_sc</th>\n",
       "      <th>Age_mm</th>\n",
       "    </tr>\n",
       "  </thead>\n",
       "  <tbody>\n",
       "    <tr>\n",
       "      <th>0</th>\n",
       "      <td>22.0</td>\n",
       "      <td>-0.565736</td>\n",
       "      <td>0.271174</td>\n",
       "    </tr>\n",
       "    <tr>\n",
       "      <th>1</th>\n",
       "      <td>38.0</td>\n",
       "      <td>0.663861</td>\n",
       "      <td>0.472229</td>\n",
       "    </tr>\n",
       "    <tr>\n",
       "      <th>2</th>\n",
       "      <td>26.0</td>\n",
       "      <td>-0.258337</td>\n",
       "      <td>0.321438</td>\n",
       "    </tr>\n",
       "    <tr>\n",
       "      <th>3</th>\n",
       "      <td>35.0</td>\n",
       "      <td>0.433312</td>\n",
       "      <td>0.434531</td>\n",
       "    </tr>\n",
       "    <tr>\n",
       "      <th>4</th>\n",
       "      <td>35.0</td>\n",
       "      <td>0.433312</td>\n",
       "      <td>0.434531</td>\n",
       "    </tr>\n",
       "    <tr>\n",
       "      <th>...</th>\n",
       "      <td>...</td>\n",
       "      <td>...</td>\n",
       "      <td>...</td>\n",
       "    </tr>\n",
       "    <tr>\n",
       "      <th>886</th>\n",
       "      <td>27.0</td>\n",
       "      <td>-0.181487</td>\n",
       "      <td>0.334004</td>\n",
       "    </tr>\n",
       "    <tr>\n",
       "      <th>887</th>\n",
       "      <td>19.0</td>\n",
       "      <td>-0.796286</td>\n",
       "      <td>0.233476</td>\n",
       "    </tr>\n",
       "    <tr>\n",
       "      <th>888</th>\n",
       "      <td>28.0</td>\n",
       "      <td>-0.104637</td>\n",
       "      <td>0.346569</td>\n",
       "    </tr>\n",
       "    <tr>\n",
       "      <th>889</th>\n",
       "      <td>26.0</td>\n",
       "      <td>-0.258337</td>\n",
       "      <td>0.321438</td>\n",
       "    </tr>\n",
       "    <tr>\n",
       "      <th>890</th>\n",
       "      <td>32.0</td>\n",
       "      <td>0.202762</td>\n",
       "      <td>0.396833</td>\n",
       "    </tr>\n",
       "  </tbody>\n",
       "</table>\n",
       "<p>891 rows × 3 columns</p>\n",
       "</div>"
      ],
      "text/plain": [
       "      Age    Age_sc    Age_mm\n",
       "0    22.0 -0.565736  0.271174\n",
       "1    38.0  0.663861  0.472229\n",
       "2    26.0 -0.258337  0.321438\n",
       "3    35.0  0.433312  0.434531\n",
       "4    35.0  0.433312  0.434531\n",
       "..    ...       ...       ...\n",
       "886  27.0 -0.181487  0.334004\n",
       "887  19.0 -0.796286  0.233476\n",
       "888  28.0 -0.104637  0.346569\n",
       "889  26.0 -0.258337  0.321438\n",
       "890  32.0  0.202762  0.396833\n",
       "\n",
       "[891 rows x 3 columns]"
      ]
     },
     "execution_count": 14,
     "metadata": {},
     "output_type": "execute_result"
    }
   ],
   "source": [
    "# fit_transform\n",
    "\n",
    "df[\"Age_mm\"]=min_max.fit_transform(df[[\"Age\"]])\n",
    "\n",
    "df"
   ]
  },
  {
   "cell_type": "code",
   "execution_count": null,
   "id": "52458b7b",
   "metadata": {},
   "outputs": [],
   "source": []
  }
 ],
 "metadata": {
  "kernelspec": {
   "display_name": "Python 3 (ipykernel)",
   "language": "python",
   "name": "python3"
  },
  "language_info": {
   "codemirror_mode": {
    "name": "ipython",
    "version": 3
   },
   "file_extension": ".py",
   "mimetype": "text/x-python",
   "name": "python",
   "nbconvert_exporter": "python",
   "pygments_lexer": "ipython3",
   "version": "3.11.3"
  }
 },
 "nbformat": 4,
 "nbformat_minor": 5
}
