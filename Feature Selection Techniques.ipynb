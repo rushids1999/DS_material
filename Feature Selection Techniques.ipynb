{
 "cells": [
  {
   "cell_type": "markdown",
   "id": "5bed3296",
   "metadata": {},
   "source": [
    "# Feature Selection Tecchniques are\n",
    "\n",
    "1. Filter methods\n",
    "\n",
    "2. Wrapper Methods\n",
    "\n",
    "3. Embedded Methods"
   ]
  },
  {
   "cell_type": "markdown",
   "id": "01ac10fb",
   "metadata": {},
   "source": [
    "# 1.         Filter Methods"
   ]
  },
  {
   "cell_type": "markdown",
   "id": "0180ffde",
   "metadata": {},
   "source": [
    "Continous Variable:\n",
    "    \n",
    "    - Correlation Coefficient\n",
    "    \n",
    "    - Variance Threshold\n",
    "    \n",
    "    - Mean Absolute Difference(MAD)\n",
    "    \n",
    "Discreate Variable:\n",
    "    \n",
    "    - Information Gain\n",
    "    \n",
    "    - Chi-Square Test"
   ]
  },
  {
   "cell_type": "markdown",
   "id": "7bb5d80e",
   "metadata": {},
   "source": [
    "# 2. Wrapper Method\n",
    "\n",
    "    - Forward Feature Elimination\n",
    "    \n",
    "    - Backword Feature Elimination\n",
    "    \n",
    "    - Recursive Feature Elimination"
   ]
  },
  {
   "cell_type": "markdown",
   "id": "82c767aa",
   "metadata": {},
   "source": [
    "# 3. Embedded Methods\n",
    "\n",
    "\n",
    "Model importance Features.\n",
    "\n",
    "    - Lasso Regression (L1 Regularization)\n",
    "    \n",
    "    - Bagging\n",
    "    \n",
    "    - Boosting\n",
    "    "
   ]
  },
  {
   "cell_type": "code",
   "execution_count": null,
   "id": "a2aab08f",
   "metadata": {},
   "outputs": [],
   "source": []
  }
 ],
 "metadata": {
  "kernelspec": {
   "display_name": "Python 3 (ipykernel)",
   "language": "python",
   "name": "python3"
  },
  "language_info": {
   "codemirror_mode": {
    "name": "ipython",
    "version": 3
   },
   "file_extension": ".py",
   "mimetype": "text/x-python",
   "name": "python",
   "nbconvert_exporter": "python",
   "pygments_lexer": "ipython3",
   "version": "3.11.3"
  }
 },
 "nbformat": 4,
 "nbformat_minor": 5
}
