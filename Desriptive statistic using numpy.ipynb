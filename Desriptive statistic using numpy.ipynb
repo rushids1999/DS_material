{
 "cells": [
  {
   "cell_type": "code",
   "execution_count": 1,
   "id": "bd9f48bd",
   "metadata": {},
   "outputs": [],
   "source": [
    "import numpy as np\n"
   ]
  },
  {
   "cell_type": "code",
   "execution_count": 3,
   "id": "f976bfe6",
   "metadata": {},
   "outputs": [
    {
     "data": {
      "text/plain": [
       "array([154, 139, 154, 192, 180, 140, 154, 155, 192])"
      ]
     },
     "execution_count": 3,
     "metadata": {},
     "output_type": "execute_result"
    }
   ],
   "source": [
    "x=np.array([154,139,154,192,180,140,154,155,192])\n",
    "x"
   ]
  },
  {
   "cell_type": "markdown",
   "id": "92019234",
   "metadata": {},
   "source": [
    "# Sum"
   ]
  },
  {
   "cell_type": "code",
   "execution_count": 4,
   "id": "4788f2b1",
   "metadata": {},
   "outputs": [
    {
     "data": {
      "text/plain": [
       "1460"
      ]
     },
     "execution_count": 4,
     "metadata": {},
     "output_type": "execute_result"
    }
   ],
   "source": [
    "np.sum(x)"
   ]
  },
  {
   "cell_type": "markdown",
   "id": "5d091ee1",
   "metadata": {},
   "source": [
    "# Mean"
   ]
  },
  {
   "cell_type": "code",
   "execution_count": 7,
   "id": "d5337c0b",
   "metadata": {},
   "outputs": [
    {
     "data": {
      "text/plain": [
       "162.22222222222223"
      ]
     },
     "execution_count": 7,
     "metadata": {},
     "output_type": "execute_result"
    }
   ],
   "source": [
    "#option-1\n",
    "\n",
    "m=np.sum(x)/len(x)\n",
    "m\n",
    "\n",
    "\n",
    "\n"
   ]
  },
  {
   "cell_type": "code",
   "execution_count": 8,
   "id": "ec2ee31b",
   "metadata": {},
   "outputs": [
    {
     "data": {
      "text/plain": [
       "162.22222222222223"
      ]
     },
     "execution_count": 8,
     "metadata": {},
     "output_type": "execute_result"
    }
   ],
   "source": [
    "#option-2 \n",
    "np.mean(x)\n"
   ]
  },
  {
   "cell_type": "code",
   "execution_count": 9,
   "id": "b86ec5de",
   "metadata": {},
   "outputs": [
    {
     "data": {
      "text/plain": [
       "162.22222222222223"
      ]
     },
     "execution_count": 9,
     "metadata": {},
     "output_type": "execute_result"
    }
   ],
   "source": [
    "#option -3\n",
    "\n",
    "x.mean()"
   ]
  },
  {
   "cell_type": "markdown",
   "id": "e128474f",
   "metadata": {},
   "source": [
    "# Mode"
   ]
  },
  {
   "cell_type": "code",
   "execution_count": 10,
   "id": "c11baf27",
   "metadata": {},
   "outputs": [
    {
     "name": "stderr",
     "output_type": "stream",
     "text": [
      "C:\\Users\\Admin\\AppData\\Local\\Temp\\ipykernel_5852\\2992914129.py:2: FutureWarning: Unlike other reduction functions (e.g. `skew`, `kurtosis`), the default behavior of `mode` typically preserves the axis it acts along. In SciPy 1.11.0, this behavior will change: the default value of `keepdims` will become False, the `axis` over which the statistic is taken will be eliminated, and the value None will no longer be accepted. Set `keepdims` to True or False to avoid this warning.\n",
      "  mode(x)\n"
     ]
    },
    {
     "data": {
      "text/plain": [
       "ModeResult(mode=array([154]), count=array([3]))"
      ]
     },
     "execution_count": 10,
     "metadata": {},
     "output_type": "execute_result"
    }
   ],
   "source": [
    "from scipy.stats import mode\n",
    "mode(x)"
   ]
  },
  {
   "cell_type": "markdown",
   "id": "96158762",
   "metadata": {},
   "source": [
    "# Minimum "
   ]
  },
  {
   "cell_type": "code",
   "execution_count": 11,
   "id": "71f7caef",
   "metadata": {},
   "outputs": [
    {
     "data": {
      "text/plain": [
       "139"
      ]
     },
     "execution_count": 11,
     "metadata": {},
     "output_type": "execute_result"
    }
   ],
   "source": [
    "np.min(x)"
   ]
  },
  {
   "cell_type": "markdown",
   "id": "00b0485d",
   "metadata": {},
   "source": [
    "# Maximum"
   ]
  },
  {
   "cell_type": "code",
   "execution_count": 12,
   "id": "456d58ac",
   "metadata": {},
   "outputs": [
    {
     "data": {
      "text/plain": [
       "192"
      ]
     },
     "execution_count": 12,
     "metadata": {},
     "output_type": "execute_result"
    }
   ],
   "source": [
    "np.max(x)"
   ]
  },
  {
   "cell_type": "code",
   "execution_count": 13,
   "id": "4d2bbe8a",
   "metadata": {},
   "outputs": [
    {
     "data": {
      "text/plain": [
       "192"
      ]
     },
     "execution_count": 13,
     "metadata": {},
     "output_type": "execute_result"
    }
   ],
   "source": [
    "x.min()\n",
    "x.max()"
   ]
  },
  {
   "cell_type": "markdown",
   "id": "80cad972",
   "metadata": {},
   "source": [
    "# Range"
   ]
  },
  {
   "cell_type": "code",
   "execution_count": 14,
   "id": "1919bb82",
   "metadata": {},
   "outputs": [
    {
     "data": {
      "text/plain": [
       "53"
      ]
     },
     "execution_count": 14,
     "metadata": {},
     "output_type": "execute_result"
    }
   ],
   "source": [
    "x.max()-x.min()"
   ]
  },
  {
   "cell_type": "markdown",
   "id": "dd555b41",
   "metadata": {},
   "source": [
    "# Mean absolute Deviation"
   ]
  },
  {
   "cell_type": "code",
   "execution_count": 15,
   "id": "b8f319b9",
   "metadata": {},
   "outputs": [
    {
     "data": {
      "text/plain": [
       "array([ 5,  9, 16, 17, 18])"
      ]
     },
     "execution_count": 15,
     "metadata": {},
     "output_type": "execute_result"
    }
   ],
   "source": [
    "x=np.array([5,9,16,17,18])\n",
    "x"
   ]
  },
  {
   "cell_type": "code",
   "execution_count": 18,
   "id": "ba6a88b0",
   "metadata": {},
   "outputs": [
    {
     "data": {
      "text/plain": [
       "array([-8., -4.,  3.,  4.,  5.])"
      ]
     },
     "execution_count": 18,
     "metadata": {},
     "output_type": "execute_result"
    }
   ],
   "source": [
    "deviation=x-x.mean()\n",
    "deviation"
   ]
  },
  {
   "cell_type": "code",
   "execution_count": 19,
   "id": "b5837498",
   "metadata": {},
   "outputs": [
    {
     "data": {
      "text/plain": [
       "array([8., 4., 3., 4., 5.])"
      ]
     },
     "execution_count": 19,
     "metadata": {},
     "output_type": "execute_result"
    }
   ],
   "source": [
    "abs_deviation=abs(deviation)\n",
    "abs_deviation"
   ]
  },
  {
   "cell_type": "code",
   "execution_count": 20,
   "id": "c89818b1",
   "metadata": {},
   "outputs": [
    {
     "data": {
      "text/plain": [
       "4.8"
      ]
     },
     "execution_count": 20,
     "metadata": {},
     "output_type": "execute_result"
    }
   ],
   "source": [
    "np.mean(abs_deviation)"
   ]
  },
  {
   "cell_type": "markdown",
   "id": "008eb32c",
   "metadata": {},
   "source": [
    "# Mean Square Deviation"
   ]
  },
  {
   "cell_type": "code",
   "execution_count": 21,
   "id": "b7abda22",
   "metadata": {},
   "outputs": [
    {
     "data": {
      "text/plain": [
       "26.0"
      ]
     },
     "execution_count": 21,
     "metadata": {},
     "output_type": "execute_result"
    }
   ],
   "source": [
    "x=np.array([5,9,16,17,18])\n",
    "deviation=x-x.mean()\n",
    "sqr_deviation=deviation*deviation\n",
    "\n",
    "np.mean(sqr_deviation)"
   ]
  },
  {
   "cell_type": "markdown",
   "id": "fd248987",
   "metadata": {},
   "source": [
    "# Variance/Mean square deviation"
   ]
  },
  {
   "cell_type": "code",
   "execution_count": 22,
   "id": "256d76a3",
   "metadata": {},
   "outputs": [
    {
     "data": {
      "text/plain": [
       "26.0"
      ]
     },
     "execution_count": 22,
     "metadata": {},
     "output_type": "execute_result"
    }
   ],
   "source": [
    "np.var(x)"
   ]
  },
  {
   "cell_type": "markdown",
   "id": "b4691927",
   "metadata": {},
   "source": [
    "* Default population Variance"
   ]
  },
  {
   "cell_type": "markdown",
   "id": "2fe7a028",
   "metadata": {},
   "source": [
    "# Standard deviation"
   ]
  },
  {
   "cell_type": "code",
   "execution_count": 24,
   "id": "c5aa162e",
   "metadata": {},
   "outputs": [
    {
     "data": {
      "text/plain": [
       "5.0990195135927845"
      ]
     },
     "execution_count": 24,
     "metadata": {},
     "output_type": "execute_result"
    }
   ],
   "source": [
    "#option -1\n",
    "\n",
    "var=np.var(x)\n",
    "std=np.sqrt(var)\n",
    "std"
   ]
  },
  {
   "cell_type": "code",
   "execution_count": 25,
   "id": "5cece3fa",
   "metadata": {},
   "outputs": [
    {
     "data": {
      "text/plain": [
       "5.0990195135927845"
      ]
     },
     "execution_count": 25,
     "metadata": {},
     "output_type": "execute_result"
    }
   ],
   "source": [
    "#option 2\n",
    "\n",
    "np.std(x)"
   ]
  },
  {
   "cell_type": "markdown",
   "id": "dbd2beac",
   "metadata": {},
   "source": [
    "# Sample Variance & Sample Standard Deviation"
   ]
  },
  {
   "cell_type": "code",
   "execution_count": 26,
   "id": "7d77e808",
   "metadata": {},
   "outputs": [],
   "source": [
    "s=np.array([1298,1844,1539,1311])"
   ]
  },
  {
   "cell_type": "code",
   "execution_count": 27,
   "id": "e8439d67",
   "metadata": {},
   "outputs": [
    {
     "data": {
      "text/plain": [
       "65455.333333333336"
      ]
     },
     "execution_count": 27,
     "metadata": {},
     "output_type": "execute_result"
    }
   ],
   "source": [
    "sample_variance=np.var(s)*len(s)/(len(s)-1)\n",
    "sample_variance"
   ]
  },
  {
   "cell_type": "code",
   "execution_count": 28,
   "id": "34bfa033",
   "metadata": {},
   "outputs": [
    {
     "data": {
      "text/plain": [
       "255.8423994050504"
      ]
     },
     "execution_count": 28,
     "metadata": {},
     "output_type": "execute_result"
    }
   ],
   "source": [
    "sample_std_dev=np.sqrt(sample_variance)\n",
    "sample_std_dev"
   ]
  },
  {
   "cell_type": "markdown",
   "id": "fbb03001",
   "metadata": {},
   "source": [
    "# Percentile"
   ]
  },
  {
   "cell_type": "code",
   "execution_count": 29,
   "id": "a7051a79",
   "metadata": {},
   "outputs": [],
   "source": [
    "ages=[5,31,43,48,50,41,7,11,15,39,90,82,32,2,8,6,25,36,27,61,31]"
   ]
  },
  {
   "cell_type": "code",
   "execution_count": 30,
   "id": "ff5e869c",
   "metadata": {},
   "outputs": [
    {
     "data": {
      "text/plain": [
       "11.0"
      ]
     },
     "execution_count": 30,
     "metadata": {},
     "output_type": "execute_result"
    }
   ],
   "source": [
    "np.percentile(ages,25)"
   ]
  },
  {
   "cell_type": "code",
   "execution_count": 31,
   "id": "fd7435a5",
   "metadata": {},
   "outputs": [
    {
     "data": {
      "text/plain": [
       "43.0"
      ]
     },
     "execution_count": 31,
     "metadata": {},
     "output_type": "execute_result"
    }
   ],
   "source": [
    "np.percentile(ages,75)"
   ]
  },
  {
   "cell_type": "code",
   "execution_count": 32,
   "id": "816181e1",
   "metadata": {},
   "outputs": [
    {
     "data": {
      "text/plain": [
       "array([11., 31., 43.])"
      ]
     },
     "execution_count": 32,
     "metadata": {},
     "output_type": "execute_result"
    }
   ],
   "source": [
    "np.percentile(ages,[25,50,75])"
   ]
  },
  {
   "cell_type": "code",
   "execution_count": null,
   "id": "940124e3",
   "metadata": {},
   "outputs": [],
   "source": []
  }
 ],
 "metadata": {
  "kernelspec": {
   "display_name": "Python 3 (ipykernel)",
   "language": "python",
   "name": "python3"
  },
  "language_info": {
   "codemirror_mode": {
    "name": "ipython",
    "version": 3
   },
   "file_extension": ".py",
   "mimetype": "text/x-python",
   "name": "python",
   "nbconvert_exporter": "python",
   "pygments_lexer": "ipython3",
   "version": "3.11.3"
  }
 },
 "nbformat": 4,
 "nbformat_minor": 5
}
