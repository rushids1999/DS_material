{
 "cells": [
  {
   "cell_type": "code",
   "execution_count": 1,
   "id": "c00d570f",
   "metadata": {},
   "outputs": [
    {
     "name": "stdout",
     "output_type": "stream",
     "text": [
      "WARNING:tensorflow:From C:\\Users\\Admin\\anaconda3\\Lib\\site-packages\\keras\\src\\losses.py:2976: The name tf.losses.sparse_softmax_cross_entropy is deprecated. Please use tf.compat.v1.losses.sparse_softmax_cross_entropy instead.\n",
      "\n"
     ]
    }
   ],
   "source": [
    "import tensorflow as tf\n",
    "import keras"
   ]
  },
  {
   "cell_type": "markdown",
   "id": "95a4c853",
   "metadata": {},
   "source": [
    "# Image Data processing"
   ]
  },
  {
   "cell_type": "code",
   "execution_count": 2,
   "id": "08bae188",
   "metadata": {},
   "outputs": [],
   "source": [
    "from keras.preprocessing.image import ImageDataGenerator"
   ]
  },
  {
   "cell_type": "markdown",
   "id": "c846b4d8",
   "metadata": {},
   "source": [
    "# Tarain data preprocessing"
   ]
  },
  {
   "cell_type": "code",
   "execution_count": 3,
   "id": "289d78e7",
   "metadata": {},
   "outputs": [],
   "source": [
    "train_datagen=ImageDataGenerator(rescale=1/255,\n",
    "                               shear_range=0.2,\n",
    "                               zoom_range=0.2)\n"
   ]
  },
  {
   "cell_type": "code",
   "execution_count": 4,
   "id": "ad6877b1",
   "metadata": {},
   "outputs": [
    {
     "name": "stdout",
     "output_type": "stream",
     "text": [
      "Found 8048 images belonging to 2 classes.\n"
     ]
    }
   ],
   "source": [
    "training_set=train_datagen.flow_from_directory('dataset/training_set',target_size=(64,64),class_mode='binary')"
   ]
  },
  {
   "cell_type": "code",
   "execution_count": 5,
   "id": "3ab2a959",
   "metadata": {},
   "outputs": [
    {
     "data": {
      "text/plain": [
       "{'cats': 0, 'dogs': 1}"
      ]
     },
     "execution_count": 5,
     "metadata": {},
     "output_type": "execute_result"
    }
   ],
   "source": [
    "training_set.class_indices"
   ]
  },
  {
   "cell_type": "code",
   "execution_count": 6,
   "id": "f70c4593",
   "metadata": {},
   "outputs": [
    {
     "name": "stdout",
     "output_type": "stream",
     "text": [
      "Found 2000 images belonging to 2 classes.\n"
     ]
    }
   ],
   "source": [
    "test_datagen=ImageDataGenerator(rescale=1/255)\n",
    "test_set=test_datagen.flow_from_directory('dataset/test_set',\n",
    "                                         target_size=(64,64),class_mode='binary')"
   ]
  },
  {
   "cell_type": "markdown",
   "id": "fbb8d07a",
   "metadata": {},
   "source": [
    "# Modelling - Convalution Neurol Network"
   ]
  },
  {
   "cell_type": "markdown",
   "id": "6d490afa",
   "metadata": {},
   "source": [
    "# Installing the CNN"
   ]
  },
  {
   "cell_type": "code",
   "execution_count": 7,
   "id": "9d1dde01",
   "metadata": {},
   "outputs": [
    {
     "name": "stdout",
     "output_type": "stream",
     "text": [
      "WARNING:tensorflow:From C:\\Users\\Admin\\anaconda3\\Lib\\site-packages\\keras\\src\\backend.py:873: The name tf.get_default_graph is deprecated. Please use tf.compat.v1.get_default_graph instead.\n",
      "\n"
     ]
    }
   ],
   "source": [
    "from keras.models import Sequential\n",
    "classifier=Sequential()"
   ]
  },
  {
   "cell_type": "markdown",
   "id": "38428a19",
   "metadata": {},
   "source": [
    "# Step 1 : Convalution"
   ]
  },
  {
   "cell_type": "code",
   "execution_count": 15,
   "id": "fdc3a660",
   "metadata": {},
   "outputs": [],
   "source": [
    "from keras.layers import Conv2D\n",
    "classifier.add(Conv2D(input_shape=[64, 64, 3],\n",
    "                     filters=32,kernel_size=3,activation='relu'))"
   ]
  },
  {
   "cell_type": "markdown",
   "id": "24b7850c",
   "metadata": {},
   "source": [
    "# Step-2 Max Pooling"
   ]
  },
  {
   "cell_type": "code",
   "execution_count": 18,
   "id": "6a81ec91",
   "metadata": {},
   "outputs": [
    {
     "name": "stdout",
     "output_type": "stream",
     "text": [
      "WARNING:tensorflow:From C:\\Users\\Admin\\anaconda3\\Lib\\site-packages\\keras\\src\\layers\\pooling\\max_pooling2d.py:161: The name tf.nn.max_pool is deprecated. Please use tf.nn.max_pool2d instead.\n",
      "\n"
     ]
    }
   ],
   "source": [
    "from keras.layers import MaxPooling2D\n",
    "classifier.add(MaxPooling2D(pool_size=2,strides=2))"
   ]
  },
  {
   "cell_type": "markdown",
   "id": "96d76785",
   "metadata": {},
   "source": [
    "# Step-3 : Falttening"
   ]
  },
  {
   "cell_type": "code",
   "execution_count": 20,
   "id": "12ecc604",
   "metadata": {},
   "outputs": [],
   "source": [
    "from keras.layers import Flatten\n",
    "classifier.add(Flatten())"
   ]
  },
  {
   "cell_type": "markdown",
   "id": "53099c37",
   "metadata": {},
   "source": [
    "# step-4 : Full Connection"
   ]
  },
  {
   "cell_type": "code",
   "execution_count": 22,
   "id": "5a9872c3",
   "metadata": {},
   "outputs": [],
   "source": [
    "from keras.layers import Dense\n",
    "\n",
    "#Hidden Layer with 128 neurons\n",
    "\n",
    "classifier.add(Dense(units=128,activation='relu'))\n",
    "\n",
    "#Outer layer with 1 neuron\n",
    "\n",
    "classifier.add(Dense(units=1,activation='sigmoid'))"
   ]
  },
  {
   "cell_type": "markdown",
   "id": "87859ae8",
   "metadata": {},
   "source": [
    "# Training the Cnn model with train data & testing the model with test data "
   ]
  },
  {
   "cell_type": "code",
   "execution_count": 25,
   "id": "d38461d9",
   "metadata": {
    "scrolled": true
   },
   "outputs": [
    {
     "name": "stdout",
     "output_type": "stream",
     "text": [
      "WARNING:tensorflow:From C:\\Users\\Admin\\anaconda3\\Lib\\site-packages\\keras\\src\\optimizers\\__init__.py:309: The name tf.train.Optimizer is deprecated. Please use tf.compat.v1.train.Optimizer instead.\n",
      "\n"
     ]
    }
   ],
   "source": [
    "classifier.compile(optimizer='adam',\n",
    "                  loss='binary_crossentropy',\n",
    "                  metrics=['accuracy'])"
   ]
  },
  {
   "cell_type": "code",
   "execution_count": 29,
   "id": "f06ef177",
   "metadata": {},
   "outputs": [
    {
     "name": "stdout",
     "output_type": "stream",
     "text": [
      "Epoch 1/25\n",
      "WARNING:tensorflow:From C:\\Users\\Admin\\anaconda3\\Lib\\site-packages\\keras\\src\\utils\\tf_utils.py:492: The name tf.ragged.RaggedTensorValue is deprecated. Please use tf.compat.v1.ragged.RaggedTensorValue instead.\n",
      "\n",
      "WARNING:tensorflow:From C:\\Users\\Admin\\anaconda3\\Lib\\site-packages\\keras\\src\\engine\\base_layer_utils.py:384: The name tf.executing_eagerly_outside_functions is deprecated. Please use tf.compat.v1.executing_eagerly_outside_functions instead.\n",
      "\n",
      "252/252 [==============================] - 292s 1s/step - loss: 0.7125 - accuracy: 0.5893 - val_loss: 0.6081 - val_accuracy: 0.6795\n",
      "Epoch 2/25\n",
      "252/252 [==============================] - 118s 468ms/step - loss: 0.6121 - accuracy: 0.6658 - val_loss: 0.6503 - val_accuracy: 0.6140\n",
      "Epoch 3/25\n",
      "252/252 [==============================] - 104s 413ms/step - loss: 0.5797 - accuracy: 0.6946 - val_loss: 0.5759 - val_accuracy: 0.6940\n",
      "Epoch 4/25\n",
      "252/252 [==============================] - 102s 405ms/step - loss: 0.5492 - accuracy: 0.7179 - val_loss: 0.5447 - val_accuracy: 0.7075\n",
      "Epoch 5/25\n",
      "252/252 [==============================] - 103s 407ms/step - loss: 0.5342 - accuracy: 0.7320 - val_loss: 0.5654 - val_accuracy: 0.7140\n",
      "Epoch 6/25\n",
      "252/252 [==============================] - 101s 402ms/step - loss: 0.5219 - accuracy: 0.7375 - val_loss: 0.5511 - val_accuracy: 0.7175\n",
      "Epoch 7/25\n",
      "252/252 [==============================] - 101s 401ms/step - loss: 0.4988 - accuracy: 0.7545 - val_loss: 0.5281 - val_accuracy: 0.7410\n",
      "Epoch 8/25\n",
      "252/252 [==============================] - 108s 427ms/step - loss: 0.4774 - accuracy: 0.7680 - val_loss: 0.5680 - val_accuracy: 0.7315\n",
      "Epoch 9/25\n",
      "252/252 [==============================] - 101s 399ms/step - loss: 0.4589 - accuracy: 0.7822 - val_loss: 0.5336 - val_accuracy: 0.7415\n",
      "Epoch 10/25\n",
      "252/252 [==============================] - 105s 419ms/step - loss: 0.4442 - accuracy: 0.7904 - val_loss: 0.5373 - val_accuracy: 0.7510\n",
      "Epoch 11/25\n",
      "252/252 [==============================] - 110s 435ms/step - loss: 0.4455 - accuracy: 0.7931 - val_loss: 0.5230 - val_accuracy: 0.7570\n",
      "Epoch 12/25\n",
      "252/252 [==============================] - 113s 446ms/step - loss: 0.4235 - accuracy: 0.8017 - val_loss: 0.5617 - val_accuracy: 0.7355\n",
      "Epoch 13/25\n",
      "252/252 [==============================] - 109s 431ms/step - loss: 0.4077 - accuracy: 0.8100 - val_loss: 0.6478 - val_accuracy: 0.7195\n",
      "Epoch 14/25\n",
      "252/252 [==============================] - 111s 439ms/step - loss: 0.3933 - accuracy: 0.8213 - val_loss: 0.5678 - val_accuracy: 0.7590\n",
      "Epoch 15/25\n",
      "252/252 [==============================] - 115s 457ms/step - loss: 0.3917 - accuracy: 0.8226 - val_loss: 0.6090 - val_accuracy: 0.7505\n",
      "Epoch 16/25\n",
      "252/252 [==============================] - 112s 444ms/step - loss: 0.3725 - accuracy: 0.8329 - val_loss: 0.5729 - val_accuracy: 0.7490\n",
      "Epoch 17/25\n",
      "252/252 [==============================] - 108s 428ms/step - loss: 0.3681 - accuracy: 0.8334 - val_loss: 0.5957 - val_accuracy: 0.7475\n",
      "Epoch 18/25\n",
      "252/252 [==============================] - 105s 418ms/step - loss: 0.3478 - accuracy: 0.8423 - val_loss: 0.5700 - val_accuracy: 0.7715\n",
      "Epoch 19/25\n",
      "252/252 [==============================] - 104s 412ms/step - loss: 0.3461 - accuracy: 0.8448 - val_loss: 0.5670 - val_accuracy: 0.7605\n",
      "Epoch 20/25\n",
      "252/252 [==============================] - 101s 401ms/step - loss: 0.3309 - accuracy: 0.8570 - val_loss: 0.5899 - val_accuracy: 0.7480\n",
      "Epoch 21/25\n",
      "252/252 [==============================] - 95s 376ms/step - loss: 0.3150 - accuracy: 0.8616 - val_loss: 0.6440 - val_accuracy: 0.7575\n",
      "Epoch 22/25\n",
      "252/252 [==============================] - 96s 380ms/step - loss: 0.3029 - accuracy: 0.8658 - val_loss: 0.6309 - val_accuracy: 0.7405\n",
      "Epoch 23/25\n",
      "252/252 [==============================] - 96s 380ms/step - loss: 0.3036 - accuracy: 0.8699 - val_loss: 0.6185 - val_accuracy: 0.7630\n",
      "Epoch 24/25\n",
      "252/252 [==============================] - 924s 4s/step - loss: 0.2821 - accuracy: 0.8806 - val_loss: 0.6380 - val_accuracy: 0.7615\n",
      "Epoch 25/25\n",
      "252/252 [==============================] - 112s 445ms/step - loss: 0.2794 - accuracy: 0.8825 - val_loss: 0.7450 - val_accuracy: 0.7275\n"
     ]
    },
    {
     "data": {
      "text/plain": [
       "<keras.src.callbacks.History at 0x16553c2e710>"
      ]
     },
     "execution_count": 29,
     "metadata": {},
     "output_type": "execute_result"
    }
   ],
   "source": [
    "classifier.fit(x=training_set,validation_data=test_set,epochs=25)"
   ]
  },
  {
   "cell_type": "markdown",
   "id": "de2c5b6d",
   "metadata": {},
   "source": [
    "# Evaluationn"
   ]
  },
  {
   "cell_type": "code",
   "execution_count": 30,
   "id": "eac0b3c9",
   "metadata": {},
   "outputs": [],
   "source": [
    "import numpy as np\n",
    "from PIL import Image\n"
   ]
  },
  {
   "cell_type": "code",
   "execution_count": 33,
   "id": "d121caee",
   "metadata": {},
   "outputs": [
    {
     "name": "stdout",
     "output_type": "stream",
     "text": [
      "1/1 [==============================] - 0s 78ms/step\n",
      "Dog\n"
     ]
    }
   ],
   "source": [
    "#Load the Data\n",
    "\n",
    "test_image=Image.open(\"dataset/single_prediction/cat_or_dog_1.jpg\")\n",
    "\n",
    "#Data Preprocessing\n",
    "\n",
    "test_image=test_image.resize((64,64))\n",
    "\n",
    "test_image=np.array(test_image)\n",
    "\n",
    "test_image=np.expand_dims(test_image,axis=0)\n",
    "\n",
    "#prediction\n",
    "\n",
    "result=classifier.predict(test_image)\n",
    "\n",
    "#Evaluation\n",
    "\n",
    "if result[0][0]==1:\n",
    "    print(\"Dog\")\n",
    "\n",
    "else:\n",
    "    print(\"Cat\")"
   ]
  },
  {
   "cell_type": "code",
   "execution_count": null,
   "id": "3657c464",
   "metadata": {},
   "outputs": [],
   "source": []
  }
 ],
 "metadata": {
  "kernelspec": {
   "display_name": "Python 3 (ipykernel)",
   "language": "python",
   "name": "python3"
  },
  "language_info": {
   "codemirror_mode": {
    "name": "ipython",
    "version": 3
   },
   "file_extension": ".py",
   "mimetype": "text/x-python",
   "name": "python",
   "nbconvert_exporter": "python",
   "pygments_lexer": "ipython3",
   "version": "3.11.3"
  }
 },
 "nbformat": 4,
 "nbformat_minor": 5
}
