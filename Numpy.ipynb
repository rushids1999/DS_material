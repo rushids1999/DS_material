{
 "cells": [
  {
   "cell_type": "markdown",
   "id": "b452c6ea",
   "metadata": {},
   "source": [
    "# Numpy"
   ]
  },
  {
   "cell_type": "code",
   "execution_count": 1,
   "id": "f5f329b8",
   "metadata": {},
   "outputs": [
    {
     "name": "stdout",
     "output_type": "stream",
     "text": [
      "[1, 2, 3, 4]\n"
     ]
    },
    {
     "data": {
      "text/plain": [
       "list"
      ]
     },
     "execution_count": 1,
     "metadata": {},
     "output_type": "execute_result"
    }
   ],
   "source": [
    "lst=[1,2,3,4]\n",
    "print(lst)\n",
    "type(lst)"
   ]
  },
  {
   "cell_type": "markdown",
   "id": "be3b6350",
   "metadata": {},
   "source": [
    "Numpy(Numerical python)\n"
   ]
  },
  {
   "cell_type": "raw",
   "id": "370720cd",
   "metadata": {},
   "source": [
    ">>Used to working with arrays.\n",
    "\n",
    ">>In Python we have lists that serve the purpose of arrays, but they are slow to process.\n",
    "\n",
    ">>Numpy is increadiable library to perform mathmatical and statistical operations due to it's fast and memory efficient as it is   optimized to work with latest CPU.\n",
    "\n",
    ">>Numpy aims to provide an array object that is up   to 50x fater than traditional python lists.So processes can acess and         manipulate them very efficiently.\n",
    "\n"
   ]
  },
  {
   "cell_type": "code",
   "execution_count": 4,
   "id": "2948a7e7",
   "metadata": {},
   "outputs": [],
   "source": [
    "import numpy as np  #import library"
   ]
  },
  {
   "cell_type": "code",
   "execution_count": 5,
   "id": "a0af21da",
   "metadata": {},
   "outputs": [
    {
     "data": {
      "text/plain": [
       "'1.24.3'"
      ]
     },
     "execution_count": 5,
     "metadata": {},
     "output_type": "execute_result"
    }
   ],
   "source": [
    "np.__version__  #to check version of numpy."
   ]
  },
  {
   "cell_type": "markdown",
   "id": "f73c42c7",
   "metadata": {},
   "source": [
    "Ndarray"
   ]
  },
  {
   "cell_type": "markdown",
   "id": "b7a93c35",
   "metadata": {},
   "source": [
    "The ndarray is created using an array function in Numpy.\n",
    "\n",
    "   numpy.array(object)"
   ]
  },
  {
   "cell_type": "code",
   "execution_count": 6,
   "id": "a60b398d",
   "metadata": {},
   "outputs": [
    {
     "name": "stdout",
     "output_type": "stream",
     "text": [
      "[1 2 3 4 5]\n"
     ]
    },
    {
     "data": {
      "text/plain": [
       "numpy.ndarray"
      ]
     },
     "execution_count": 6,
     "metadata": {},
     "output_type": "execute_result"
    }
   ],
   "source": [
    "a=[1,2,3,4,5]\n",
    "\n",
    "np_a = np.array(a)\n",
    "print(np_a)\n",
    "type(np_a)"
   ]
  },
  {
   "cell_type": "code",
   "execution_count": 7,
   "id": "4c1c323b",
   "metadata": {},
   "outputs": [
    {
     "data": {
      "text/plain": [
       "array([1, 2, 3, 4, 5])"
      ]
     },
     "execution_count": 7,
     "metadata": {},
     "output_type": "execute_result"
    }
   ],
   "source": [
    "np_a   "
   ]
  },
  {
   "cell_type": "markdown",
   "id": "aaef0fe5",
   "metadata": {},
   "source": [
    "# Creating Numpy Arrays\n",
    " \n",
    " 0-D"
   ]
  },
  {
   "cell_type": "code",
   "execution_count": 9,
   "id": "55c2fa9a",
   "metadata": {},
   "outputs": [
    {
     "name": "stdout",
     "output_type": "stream",
     "text": [
      "45\n"
     ]
    },
    {
     "data": {
      "text/plain": [
       "numpy.ndarray"
      ]
     },
     "execution_count": 9,
     "metadata": {},
     "output_type": "execute_result"
    }
   ],
   "source": [
    "arr=np.array(45)\n",
    "print(arr)\n",
    "type(arr)"
   ]
  },
  {
   "cell_type": "markdown",
   "id": "f12cc9a1",
   "metadata": {},
   "source": [
    "1-D"
   ]
  },
  {
   "cell_type": "code",
   "execution_count": 11,
   "id": "d2fba04c",
   "metadata": {},
   "outputs": [
    {
     "name": "stdout",
     "output_type": "stream",
     "text": [
      "[1 2 3]\n"
     ]
    }
   ],
   "source": [
    "a = np.array([1,2,3])\n",
    "print(a)"
   ]
  },
  {
   "cell_type": "code",
   "execution_count": 13,
   "id": "6ec14a68",
   "metadata": {},
   "outputs": [
    {
     "name": "stdout",
     "output_type": "stream",
     "text": [
      "[2 3 4 5 6]\n"
     ]
    }
   ],
   "source": [
    "a = np.array((2,3,4,5,6))\n",
    "print(a)"
   ]
  },
  {
   "cell_type": "code",
   "execution_count": 14,
   "id": "bb2317be",
   "metadata": {},
   "outputs": [
    {
     "data": {
      "text/plain": [
       "1"
      ]
     },
     "execution_count": 14,
     "metadata": {},
     "output_type": "execute_result"
    }
   ],
   "source": [
    "#Print array Dimension\n",
    "\n",
    "a.ndim"
   ]
  },
  {
   "cell_type": "code",
   "execution_count": 15,
   "id": "f3c1c0ea",
   "metadata": {},
   "outputs": [
    {
     "data": {
      "text/plain": [
       "(5,)"
      ]
     },
     "execution_count": 15,
     "metadata": {},
     "output_type": "execute_result"
    }
   ],
   "source": [
    "#print Shape of array\n",
    "\n",
    "a.shape"
   ]
  },
  {
   "cell_type": "markdown",
   "id": "3e0f9b57",
   "metadata": {},
   "source": [
    "# Functions for creating arrays"
   ]
  },
  {
   "cell_type": "raw",
   "id": "75d90897",
   "metadata": {},
   "source": [
    "arange\n",
    "\n",
    ">> arange is an array-valued version of the built-in python range function .\n",
    "\n",
    ">> Syntax:np.arange(start,end,step)\n",
    "    "
   ]
  },
  {
   "cell_type": "code",
   "execution_count": 16,
   "id": "38bb6297",
   "metadata": {},
   "outputs": [
    {
     "name": "stdout",
     "output_type": "stream",
     "text": [
      "[ 10  20  30  40  50  60  70  80  90 100]\n"
     ]
    }
   ],
   "source": [
    "a = np.arange(10,101,10)\n",
    "print(a)"
   ]
  },
  {
   "cell_type": "raw",
   "id": "8037be4f",
   "metadata": {},
   "source": [
    "linspace\n",
    "\n",
    " >> Return evenly spaced number over a specified intervel.\n",
    " \n",
    " >>Syntax:np.linspace(start,end,num_of_samples)\n",
    "        "
   ]
  },
  {
   "cell_type": "code",
   "execution_count": 18,
   "id": "b00ffbd5",
   "metadata": {},
   "outputs": [
    {
     "data": {
      "text/plain": [
       "array([  1.,  12.,  23.,  34.,  45.,  56.,  67.,  78.,  89., 100.])"
      ]
     },
     "execution_count": 18,
     "metadata": {},
     "output_type": "execute_result"
    }
   ],
   "source": [
    "np.linspace(1,100,10)"
   ]
  },
  {
   "cell_type": "raw",
   "id": "d3fa127d",
   "metadata": {},
   "source": [
    " Zeros \n",
    "\n",
    " >>Generate arrays of zeros\n",
    "\n",
    " >>Syntax:np.zeros(Shape)"
   ]
  },
  {
   "cell_type": "code",
   "execution_count": 21,
   "id": "ba157bce",
   "metadata": {},
   "outputs": [
    {
     "data": {
      "text/plain": [
       "array([0., 0., 0.])"
      ]
     },
     "execution_count": 21,
     "metadata": {},
     "output_type": "execute_result"
    }
   ],
   "source": [
    "np.zeros(3)"
   ]
  },
  {
   "cell_type": "raw",
   "id": "e20960c0",
   "metadata": {},
   "source": [
    "ones\n",
    " \n",
    " >> Generate arrays of ones\n",
    " \n",
    " >>Syntax:np.ones(shape)"
   ]
  },
  {
   "cell_type": "code",
   "execution_count": 24,
   "id": "368712a3",
   "metadata": {},
   "outputs": [
    {
     "data": {
      "text/plain": [
       "array([1., 1., 1.])"
      ]
     },
     "execution_count": 24,
     "metadata": {},
     "output_type": "execute_result"
    }
   ],
   "source": [
    " np.ones(3)"
   ]
  },
  {
   "cell_type": "raw",
   "id": "2ac57c4e",
   "metadata": {},
   "source": [
    "random.randint\n",
    "\n",
    " >> Return random integers from start(inclusives) to end(exlusive)\n",
    "    \n",
    " >>Syntax: np.random.randint(start,end,num_of_samples)\n",
    "    "
   ]
  },
  {
   "cell_type": "code",
   "execution_count": 26,
   "id": "f1e63479",
   "metadata": {},
   "outputs": [
    {
     "data": {
      "text/plain": [
       "array([40, 65, 12, 76, 75])"
      ]
     },
     "execution_count": 26,
     "metadata": {},
     "output_type": "execute_result"
    }
   ],
   "source": [
    "np.random.randint(1,100,5)"
   ]
  },
  {
   "cell_type": "markdown",
   "id": "65180bec",
   "metadata": {},
   "source": [
    "# Acessessing Elements"
   ]
  },
  {
   "cell_type": "raw",
   "id": "4df56651",
   "metadata": {},
   "source": [
    "1. Acessing a single value through indexing.\n",
    "\n",
    "2. Acessing a multiple values based on slicing.\n",
    "\n",
    "3. Acessing a multiple values based on indexing.\n",
    "\n",
    "4. Acessing a multiple values based on condition.\n"
   ]
  },
  {
   "cell_type": "raw",
   "id": "a9327e77",
   "metadata": {},
   "source": [
    "# 1.Accessing single value through indexing.\n"
   ]
  },
  {
   "cell_type": "code",
   "execution_count": 31,
   "id": "83b9f797",
   "metadata": {},
   "outputs": [
    {
     "name": "stdout",
     "output_type": "stream",
     "text": [
      "[ 1  3  5  7  9 11 13 15 17 19]\n"
     ]
    },
    {
     "data": {
      "text/plain": [
       "11"
      ]
     },
     "execution_count": 31,
     "metadata": {},
     "output_type": "execute_result"
    }
   ],
   "source": [
    "a = np.arange(1,20,2)\n",
    "print(a)\n",
    "a[5]"
   ]
  },
  {
   "cell_type": "raw",
   "id": "3c18902d",
   "metadata": {},
   "source": [
    "2.Acessing a multiple values based on slicing."
   ]
  },
  {
   "cell_type": "code",
   "execution_count": 32,
   "id": "4610dd51",
   "metadata": {},
   "outputs": [
    {
     "data": {
      "text/plain": [
       "array([ 3,  7, 11, 15])"
      ]
     },
     "execution_count": 32,
     "metadata": {},
     "output_type": "execute_result"
    }
   ],
   "source": [
    "a[1:8:2]"
   ]
  },
  {
   "cell_type": "raw",
   "id": "e5c844e2",
   "metadata": {},
   "source": [
    "3.Acessing multiple values based on indexing.\n",
    " Syntax: arrays(list of index numbers)\n",
    " "
   ]
  },
  {
   "cell_type": "code",
   "execution_count": 34,
   "id": "fe104dfb",
   "metadata": {},
   "outputs": [
    {
     "data": {
      "text/plain": [
       "array([ 1,  3,  7,  9, 11])"
      ]
     },
     "execution_count": 34,
     "metadata": {},
     "output_type": "execute_result"
    }
   ],
   "source": [
    "a[[0,1,3,4,5]]"
   ]
  },
  {
   "cell_type": "code",
   "execution_count": 35,
   "id": "698b7d61",
   "metadata": {},
   "outputs": [
    {
     "ename": "SyntaxError",
     "evalue": "invalid syntax (3954280239.py, line 1)",
     "output_type": "error",
     "traceback": [
      "\u001b[1;36m  Cell \u001b[1;32mIn[35], line 1\u001b[1;36m\u001b[0m\n\u001b[1;33m    4. Acessing a multiple values based on condition or Fancy Indexing.\u001b[0m\n\u001b[1;37m       ^\u001b[0m\n\u001b[1;31mSyntaxError\u001b[0m\u001b[1;31m:\u001b[0m invalid syntax\n"
     ]
    }
   ],
   "source": [
    "4. Acessing a multiple values based on condition or Fancy Indexing.\n"
   ]
  },
  {
   "cell_type": "code",
   "execution_count": 37,
   "id": "e4025318",
   "metadata": {},
   "outputs": [
    {
     "data": {
      "text/plain": [
       "array([ 1,  3,  5,  7,  9, 11, 13, 15, 17, 19])"
      ]
     },
     "execution_count": 37,
     "metadata": {},
     "output_type": "execute_result"
    }
   ],
   "source": [
    "a[a%2!=0]"
   ]
  },
  {
   "cell_type": "code",
   "execution_count": 38,
   "id": "9c9af4b4",
   "metadata": {},
   "outputs": [
    {
     "data": {
      "text/plain": [
       "array([], dtype=int32)"
      ]
     },
     "execution_count": 38,
     "metadata": {},
     "output_type": "execute_result"
    }
   ],
   "source": [
    "a[a%2==0]"
   ]
  },
  {
   "cell_type": "code",
   "execution_count": 39,
   "id": "b2781b30",
   "metadata": {},
   "outputs": [
    {
     "data": {
      "text/plain": [
       "array([11, 13, 15, 17, 19])"
      ]
     },
     "execution_count": 39,
     "metadata": {},
     "output_type": "execute_result"
    }
   ],
   "source": [
    "a[a>10]"
   ]
  },
  {
   "cell_type": "code",
   "execution_count": 41,
   "id": "aad9816b",
   "metadata": {},
   "outputs": [
    {
     "data": {
      "text/plain": [
       "array([3])"
      ]
     },
     "execution_count": 41,
     "metadata": {},
     "output_type": "execute_result"
    }
   ],
   "source": [
    "a[a==3]"
   ]
  },
  {
   "cell_type": "markdown",
   "id": "8e2ac50b",
   "metadata": {},
   "source": [
    "# Numpy is Mutable"
   ]
  },
  {
   "cell_type": "code",
   "execution_count": 42,
   "id": "cc249db1",
   "metadata": {},
   "outputs": [
    {
     "ename": "SyntaxError",
     "evalue": "invalid decimal literal (2968637551.py, line 1)",
     "output_type": "error",
     "traceback": [
      "\u001b[1;36m  Cell \u001b[1;32mIn[42], line 1\u001b[1;36m\u001b[0m\n\u001b[1;33m    1.Replace\u001b[0m\n\u001b[1;37m     ^\u001b[0m\n\u001b[1;31mSyntaxError\u001b[0m\u001b[1;31m:\u001b[0m invalid decimal literal\n"
     ]
    }
   ],
   "source": [
    "1.Replace\n",
    "2.Add\n",
    "3.Remove"
   ]
  },
  {
   "cell_type": "code",
   "execution_count": 44,
   "id": "9fc9ae16",
   "metadata": {},
   "outputs": [
    {
     "name": "stdout",
     "output_type": "stream",
     "text": [
      "[  1   3   5   7   9 200  13  15  17  19]\n"
     ]
    }
   ],
   "source": [
    "#Replacing single value in array.\n",
    "\n",
    "a[5]=200\n",
    "print(a)"
   ]
  },
  {
   "cell_type": "code",
   "execution_count": 46,
   "id": "578532e5",
   "metadata": {},
   "outputs": [
    {
     "name": "stdout",
     "output_type": "stream",
     "text": [
      "[ 1 80  5  7  9 80 13 15 17 19]\n"
     ]
    }
   ],
   "source": [
    "#Replacing a multiple values in aarray.\n",
    "\n",
    "a[[1,5]]=80\n",
    "print(a)"
   ]
  },
  {
   "cell_type": "code",
   "execution_count": 48,
   "id": "ae3e5d92",
   "metadata": {},
   "outputs": [
    {
     "name": "stdout",
     "output_type": "stream",
     "text": [
      "[  1  80   5   7   9  80  13  15  17  19 110 200]\n"
     ]
    }
   ],
   "source": [
    "#Add value in array\n",
    "\n",
    "b=np.append(a,[110,200])\n",
    "print(b)"
   ]
  },
  {
   "cell_type": "code",
   "execution_count": 49,
   "id": "381a413d",
   "metadata": {},
   "outputs": [
    {
     "name": "stdout",
     "output_type": "stream",
     "text": [
      "Numpy array after deleton of one element: [ 1 80  5  7  9 80 13 15 17 19]\n"
     ]
    }
   ],
   "source": [
    "#Delete a single value in array\n",
    "\n",
    "b=np.delete(a,8)\n",
    "print(\"Numpy array after deleton of one element:\",a)"
   ]
  },
  {
   "cell_type": "code",
   "execution_count": 51,
   "id": "ec3e30cf",
   "metadata": {},
   "outputs": [
    {
     "name": "stdout",
     "output_type": "stream",
     "text": [
      "[ 1  5  7 13 15 17 19]\n"
     ]
    }
   ],
   "source": [
    "#Delete multiple values in array.\n",
    "\n",
    "b=np.delete(a,[1,4,5])\n",
    "print(b)"
   ]
  },
  {
   "cell_type": "markdown",
   "id": "8fa8df7e",
   "metadata": {},
   "source": [
    "# Sort"
   ]
  },
  {
   "cell_type": "code",
   "execution_count": 52,
   "id": "f04176c8",
   "metadata": {},
   "outputs": [
    {
     "data": {
      "text/plain": [
       "array([3, 4, 5, 6, 8, 8, 9])"
      ]
     },
     "execution_count": 52,
     "metadata": {},
     "output_type": "execute_result"
    }
   ],
   "source": [
    "np.sort([4,5,6,8,3,8,9]) #bydefault ascending order."
   ]
  },
  {
   "cell_type": "code",
   "execution_count": 53,
   "id": "c2519093",
   "metadata": {},
   "outputs": [
    {
     "data": {
      "text/plain": [
       "array([9, 8, 7, 5, 4, 3, 2])"
      ]
     },
     "execution_count": 53,
     "metadata": {},
     "output_type": "execute_result"
    }
   ],
   "source": [
    "np.sort([3,7,8,9,5,4,2])[::-1] #desending order."
   ]
  },
  {
   "cell_type": "markdown",
   "id": "61663157",
   "metadata": {},
   "source": [
    "# copy array"
   ]
  },
  {
   "cell_type": "code",
   "execution_count": 54,
   "id": "372cb5fe",
   "metadata": {},
   "outputs": [
    {
     "name": "stdout",
     "output_type": "stream",
     "text": [
      "[1 2 3]\n",
      "[100   2   3]\n"
     ]
    }
   ],
   "source": [
    "a=np.array([1,2,3])\n",
    "b=a.copy()\n",
    "b[0]=100\n",
    "print(a)\n",
    "print(b)"
   ]
  },
  {
   "cell_type": "raw",
   "id": "143474a0",
   "metadata": {},
   "source": [
    "around()"
   ]
  },
  {
   "cell_type": "code",
   "execution_count": 55,
   "id": "83ffe43a",
   "metadata": {},
   "outputs": [
    {
     "data": {
      "text/plain": [
       "array([1., 5., 7.])"
      ]
     },
     "execution_count": 55,
     "metadata": {},
     "output_type": "execute_result"
    }
   ],
   "source": [
    "arr=np.array([1.234,4.555,6.555])\n",
    "np.around(arr)"
   ]
  },
  {
   "cell_type": "code",
   "execution_count": 56,
   "id": "7525ab58",
   "metadata": {},
   "outputs": [
    {
     "data": {
      "text/plain": [
       "array([1.23, 4.56, 6.56])"
      ]
     },
     "execution_count": 56,
     "metadata": {},
     "output_type": "execute_result"
    }
   ],
   "source": [
    "np.around(arr,2)"
   ]
  },
  {
   "cell_type": "markdown",
   "id": "13e02297",
   "metadata": {},
   "source": [
    "# Operations"
   ]
  },
  {
   "cell_type": "raw",
   "id": "79f7629f",
   "metadata": {},
   "source": [
    "Arthimetic Operations"
   ]
  },
  {
   "cell_type": "code",
   "execution_count": 58,
   "id": "556c2b7d",
   "metadata": {},
   "outputs": [
    {
     "data": {
      "text/plain": [
       "array([1, 2, 3, 4, 5])"
      ]
     },
     "execution_count": 58,
     "metadata": {},
     "output_type": "execute_result"
    }
   ],
   "source": [
    "a=np.array([1,2,3,4,5])\n",
    "a"
   ]
  },
  {
   "cell_type": "code",
   "execution_count": 59,
   "id": "7d5f32ab",
   "metadata": {},
   "outputs": [
    {
     "data": {
      "text/plain": [
       "array([2, 3, 4, 5, 6])"
      ]
     },
     "execution_count": 59,
     "metadata": {},
     "output_type": "execute_result"
    }
   ],
   "source": [
    "a+1"
   ]
  },
  {
   "cell_type": "code",
   "execution_count": 60,
   "id": "73a76429",
   "metadata": {},
   "outputs": [
    {
     "data": {
      "text/plain": [
       "array([ 1,  4,  9, 16, 25])"
      ]
     },
     "execution_count": 60,
     "metadata": {},
     "output_type": "execute_result"
    }
   ],
   "source": [
    "a**2"
   ]
  },
  {
   "cell_type": "code",
   "execution_count": 62,
   "id": "e70595e9",
   "metadata": {},
   "outputs": [
    {
     "name": "stdout",
     "output_type": "stream",
     "text": [
      "[1 2 3 4] [4 5 6 7] [39  8  7  9]\n"
     ]
    }
   ],
   "source": [
    "a=np.array([1,2,3,4])\n",
    "b=np.array([4,5,6,7])\n",
    "c=np.array([39,8,7,9])\n",
    "print(a,b,c)"
   ]
  },
  {
   "cell_type": "code",
   "execution_count": 63,
   "id": "f5b5fa64",
   "metadata": {},
   "outputs": [
    {
     "data": {
      "text/plain": [
       "array([ 5,  7,  9, 11])"
      ]
     },
     "execution_count": 63,
     "metadata": {},
     "output_type": "execute_result"
    }
   ],
   "source": [
    "a+b"
   ]
  },
  {
   "cell_type": "code",
   "execution_count": 64,
   "id": "ce22573a",
   "metadata": {},
   "outputs": [
    {
     "data": {
      "text/plain": [
       "array([-3, -3, -3, -3])"
      ]
     },
     "execution_count": 64,
     "metadata": {},
     "output_type": "execute_result"
    }
   ],
   "source": [
    "a-b"
   ]
  },
  {
   "cell_type": "code",
   "execution_count": 65,
   "id": "b47661b2",
   "metadata": {},
   "outputs": [
    {
     "data": {
      "text/plain": [
       "array([ 4, 10, 18, 28])"
      ]
     },
     "execution_count": 65,
     "metadata": {},
     "output_type": "execute_result"
    }
   ],
   "source": [
    "a*b"
   ]
  },
  {
   "cell_type": "code",
   "execution_count": 66,
   "id": "197d0615",
   "metadata": {},
   "outputs": [
    {
     "data": {
      "text/plain": [
       "array([False, False, False, False])"
      ]
     },
     "execution_count": 66,
     "metadata": {},
     "output_type": "execute_result"
    }
   ],
   "source": [
    "a==b"
   ]
  },
  {
   "cell_type": "code",
   "execution_count": 67,
   "id": "4a4c3787",
   "metadata": {},
   "outputs": [
    {
     "data": {
      "text/plain": [
       "array([False, False, False, False])"
      ]
     },
     "execution_count": 67,
     "metadata": {},
     "output_type": "execute_result"
    }
   ],
   "source": [
    "a>b"
   ]
  },
  {
   "cell_type": "code",
   "execution_count": 68,
   "id": "ec1f10db",
   "metadata": {},
   "outputs": [
    {
     "data": {
      "text/plain": [
       "array([ True,  True,  True,  True])"
      ]
     },
     "execution_count": 68,
     "metadata": {},
     "output_type": "execute_result"
    }
   ],
   "source": [
    "a<b"
   ]
  },
  {
   "cell_type": "code",
   "execution_count": 69,
   "id": "3c6c0ac1",
   "metadata": {},
   "outputs": [
    {
     "data": {
      "text/plain": [
       "False"
      ]
     },
     "execution_count": 69,
     "metadata": {},
     "output_type": "execute_result"
    }
   ],
   "source": [
    "np.array_equal(a,b)"
   ]
  },
  {
   "cell_type": "code",
   "execution_count": 70,
   "id": "47487873",
   "metadata": {},
   "outputs": [
    {
     "data": {
      "text/plain": [
       "False"
      ]
     },
     "execution_count": 70,
     "metadata": {},
     "output_type": "execute_result"
    }
   ],
   "source": [
    "np.array_equal(a,c)"
   ]
  },
  {
   "cell_type": "raw",
   "id": "7269f4ac",
   "metadata": {},
   "source": [
    "Mathematical operation"
   ]
  },
  {
   "cell_type": "code",
   "execution_count": 86,
   "id": "e04b1171",
   "metadata": {},
   "outputs": [
    {
     "data": {
      "text/plain": [
       "array([ 1,  3,  5,  7,  9, 11])"
      ]
     },
     "execution_count": 86,
     "metadata": {},
     "output_type": "execute_result"
    }
   ],
   "source": [
    "a=np.arange(1,12,2)\n",
    "a"
   ]
  },
  {
   "cell_type": "code",
   "execution_count": 87,
   "id": "fc925654",
   "metadata": {},
   "outputs": [
    {
     "data": {
      "text/plain": [
       "array([ 0.84147098,  0.14112001, -0.95892427,  0.6569866 ,  0.41211849,\n",
       "       -0.99999021])"
      ]
     },
     "execution_count": 87,
     "metadata": {},
     "output_type": "execute_result"
    }
   ],
   "source": [
    "np.sin(a)"
   ]
  },
  {
   "cell_type": "code",
   "execution_count": 88,
   "id": "15ba559d",
   "metadata": {},
   "outputs": [
    {
     "data": {
      "text/plain": [
       "array([ 0.54030231, -0.9899925 ,  0.28366219,  0.75390225, -0.91113026,\n",
       "        0.0044257 ])"
      ]
     },
     "execution_count": 88,
     "metadata": {},
     "output_type": "execute_result"
    }
   ],
   "source": [
    "np.cos(a)"
   ]
  },
  {
   "cell_type": "code",
   "execution_count": 89,
   "id": "11666a75",
   "metadata": {},
   "outputs": [
    {
     "data": {
      "text/plain": [
       "array([0.        , 1.09861229, 1.60943791, 1.94591015, 2.19722458,\n",
       "       2.39789527])"
      ]
     },
     "execution_count": 89,
     "metadata": {},
     "output_type": "execute_result"
    }
   ],
   "source": [
    "np.log(a)"
   ]
  },
  {
   "cell_type": "code",
   "execution_count": 90,
   "id": "98ea14ce",
   "metadata": {},
   "outputs": [
    {
     "data": {
      "text/plain": [
       "array([2.71828183e+00, 2.00855369e+01, 1.48413159e+02, 1.09663316e+03,\n",
       "       8.10308393e+03, 5.98741417e+04])"
      ]
     },
     "execution_count": 90,
     "metadata": {},
     "output_type": "execute_result"
    }
   ],
   "source": [
    "np.exp(a)"
   ]
  },
  {
   "cell_type": "markdown",
   "id": "053b6238",
   "metadata": {},
   "source": [
    "# Statistical operations"
   ]
  },
  {
   "cell_type": "code",
   "execution_count": 91,
   "id": "1f94f48f",
   "metadata": {},
   "outputs": [
    {
     "data": {
      "text/plain": [
       "6.0"
      ]
     },
     "execution_count": 91,
     "metadata": {},
     "output_type": "execute_result"
    }
   ],
   "source": [
    "np.mean(a)"
   ]
  },
  {
   "cell_type": "code",
   "execution_count": 92,
   "id": "a98612c1",
   "metadata": {},
   "outputs": [
    {
     "data": {
      "text/plain": [
       "6.0"
      ]
     },
     "execution_count": 92,
     "metadata": {},
     "output_type": "execute_result"
    }
   ],
   "source": [
    "np.median(a)"
   ]
  },
  {
   "cell_type": "code",
   "execution_count": 95,
   "id": "f4a368bf",
   "metadata": {},
   "outputs": [
    {
     "data": {
      "text/plain": [
       "3.415650255319866"
      ]
     },
     "execution_count": 95,
     "metadata": {},
     "output_type": "execute_result"
    }
   ],
   "source": [
    "np.std(a)"
   ]
  },
  {
   "cell_type": "markdown",
   "id": "2ab9fd96",
   "metadata": {},
   "source": [
    "# 2D Numpy Arraya"
   ]
  },
  {
   "cell_type": "code",
   "execution_count": 97,
   "id": "e0d4c786",
   "metadata": {},
   "outputs": [
    {
     "name": "stdout",
     "output_type": "stream",
     "text": [
      "[[1 2 3 4]\n",
      " [5 6 7 7]]\n"
     ]
    }
   ],
   "source": [
    "b=np.array([[1,2,3,4],[5,6,7,7]])\n",
    "print(b)"
   ]
  },
  {
   "cell_type": "code",
   "execution_count": 98,
   "id": "03b9bb9b",
   "metadata": {},
   "outputs": [
    {
     "data": {
      "text/plain": [
       "2"
      ]
     },
     "execution_count": 98,
     "metadata": {},
     "output_type": "execute_result"
    }
   ],
   "source": [
    "b.ndim"
   ]
  },
  {
   "cell_type": "code",
   "execution_count": 99,
   "id": "259da681",
   "metadata": {},
   "outputs": [
    {
     "data": {
      "text/plain": [
       "array([[0., 0.],\n",
       "       [0., 0.]])"
      ]
     },
     "execution_count": 99,
     "metadata": {},
     "output_type": "execute_result"
    }
   ],
   "source": [
    "np.zeros((2,2))"
   ]
  },
  {
   "cell_type": "code",
   "execution_count": 104,
   "id": "c6029570",
   "metadata": {},
   "outputs": [
    {
     "data": {
      "text/plain": [
       "array([[1., 0.],\n",
       "       [0., 1.]])"
      ]
     },
     "execution_count": 104,
     "metadata": {},
     "output_type": "execute_result"
    }
   ],
   "source": [
    "np.eye(2,2)"
   ]
  },
  {
   "cell_type": "code",
   "execution_count": 105,
   "id": "38ae4f85",
   "metadata": {},
   "outputs": [
    {
     "data": {
      "text/plain": [
       "array([[1, 0, 0],\n",
       "       [0, 2, 0],\n",
       "       [0, 0, 3]])"
      ]
     },
     "execution_count": 105,
     "metadata": {},
     "output_type": "execute_result"
    }
   ],
   "source": [
    "np.diag([1,2,3])"
   ]
  },
  {
   "cell_type": "code",
   "execution_count": 109,
   "id": "b7167673",
   "metadata": {},
   "outputs": [
    {
     "name": "stdout",
     "output_type": "stream",
     "text": [
      "[[10 20 30]\n",
      " [30 40 50]]\n",
      "40\n"
     ]
    }
   ],
   "source": [
    "a=np.array([[10,20,30],[30,40,50]])\n",
    "print(a)\n",
    "print(a[1,1])"
   ]
  },
  {
   "cell_type": "code",
   "execution_count": 110,
   "id": "634782ea",
   "metadata": {},
   "outputs": [
    {
     "data": {
      "text/plain": [
       "40"
      ]
     },
     "execution_count": 110,
     "metadata": {},
     "output_type": "execute_result"
    }
   ],
   "source": [
    "a[1,1]"
   ]
  },
  {
   "cell_type": "code",
   "execution_count": 111,
   "id": "2a42bcbe",
   "metadata": {},
   "outputs": [
    {
     "data": {
      "text/plain": [
       "20"
      ]
     },
     "execution_count": 111,
     "metadata": {},
     "output_type": "execute_result"
    }
   ],
   "source": [
    "a[0,1]"
   ]
  },
  {
   "cell_type": "code",
   "execution_count": 112,
   "id": "82fb9126",
   "metadata": {},
   "outputs": [
    {
     "data": {
      "text/plain": [
       "array([[10, 20, 30],\n",
       "       [30, 25, 50]])"
      ]
     },
     "execution_count": 112,
     "metadata": {},
     "output_type": "execute_result"
    }
   ],
   "source": [
    "#Assigning value in 2d array\n",
    "a[1,1]=25\n",
    "a"
   ]
  },
  {
   "cell_type": "markdown",
   "id": "50e45a7f",
   "metadata": {},
   "source": [
    "Flattering: Converting nd array to 1-D array.\n"
   ]
  },
  {
   "cell_type": "code",
   "execution_count": 113,
   "id": "22b78fa7",
   "metadata": {},
   "outputs": [
    {
     "data": {
      "text/plain": [
       "array([1, 2, 3, 4, 5])"
      ]
     },
     "execution_count": 113,
     "metadata": {},
     "output_type": "execute_result"
    }
   ],
   "source": [
    "a=np.array([1,2,3,4,5])\n",
    "a.ravel()"
   ]
  },
  {
   "cell_type": "markdown",
   "id": "9b7f6054",
   "metadata": {},
   "source": [
    "Reshape array"
   ]
  },
  {
   "cell_type": "code",
   "execution_count": 117,
   "id": "e479a669",
   "metadata": {},
   "outputs": [
    {
     "name": "stdout",
     "output_type": "stream",
     "text": [
      "[ 1  2  3  4  5  6  7  8  9 10 11 12 13 14 15 16 17 18 19 20 21 22 23 24\n",
      " 25 26 27 28 29 30]\n"
     ]
    },
    {
     "data": {
      "text/plain": [
       "(30,)"
      ]
     },
     "execution_count": 117,
     "metadata": {},
     "output_type": "execute_result"
    }
   ],
   "source": [
    "a=np.arange(1,31)\n",
    "print(a)\n",
    "\n",
    "a.shape"
   ]
  },
  {
   "cell_type": "code",
   "execution_count": 119,
   "id": "7528bd28",
   "metadata": {},
   "outputs": [
    {
     "data": {
      "text/plain": [
       "array([[ 1,  2,  3,  4,  5,  6,  7,  8,  9, 10, 11, 12, 13, 14, 15],\n",
       "       [16, 17, 18, 19, 20, 21, 22, 23, 24, 25, 26, 27, 28, 29, 30]])"
      ]
     },
     "execution_count": 119,
     "metadata": {},
     "output_type": "execute_result"
    }
   ],
   "source": [
    "a1=a.reshape(2,15)\n",
    "a1"
   ]
  },
  {
   "cell_type": "markdown",
   "id": "4bab0833",
   "metadata": {},
   "source": [
    "Transpose Array"
   ]
  },
  {
   "cell_type": "code",
   "execution_count": 120,
   "id": "0d9d357a",
   "metadata": {},
   "outputs": [
    {
     "name": "stdout",
     "output_type": "stream",
     "text": [
      "[ 1  2  3  4  5  6  7  8  9 10 11 12 13 14 15 16 17 18 19 20 21 22 23 24\n",
      " 25 26 27 28 29 30]\n"
     ]
    }
   ],
   "source": [
    "c=a.T\n",
    "print(c)"
   ]
  },
  {
   "cell_type": "code",
   "execution_count": 123,
   "id": "7cc0f563",
   "metadata": {},
   "outputs": [
    {
     "name": "stdout",
     "output_type": "stream",
     "text": [
      "[[5 4 3]\n",
      " [2 5 8]]\n",
      "[[2 4 3]\n",
      " [5 5 8]]\n"
     ]
    }
   ],
   "source": [
    "#Sorting along an axis=1-->row and axis-->column\n",
    "\n",
    "a=np.array([[5,4,3],[2,5,8]])\n",
    "print(a)\n",
    "b=np.sort(a,axis=0)\n",
    "print(b)"
   ]
  },
  {
   "cell_type": "code",
   "execution_count": 126,
   "id": "fd64322a",
   "metadata": {},
   "outputs": [
    {
     "name": "stdout",
     "output_type": "stream",
     "text": [
      "[[ 5  6]\n",
      " [ 7  8]\n",
      " [ 9 10]]\n"
     ]
    }
   ],
   "source": [
    "a=np.array([[1,2],[3,4],[5,6]])\n",
    "\n",
    "b=np.array([[4,4],[4,4],[4,4]])\n",
    "\n",
    "#adding two arrays\n",
    "print(a+b)"
   ]
  },
  {
   "cell_type": "code",
   "execution_count": 127,
   "id": "cd6b9098",
   "metadata": {},
   "outputs": [
    {
     "name": "stdout",
     "output_type": "stream",
     "text": [
      "[[ 4  8]\n",
      " [12 16]\n",
      " [20 24]]\n"
     ]
    }
   ],
   "source": [
    "#Multiply arrays\n",
    "\n",
    "print(a*b)"
   ]
  },
  {
   "cell_type": "code",
   "execution_count": 128,
   "id": "b06eef25",
   "metadata": {},
   "outputs": [
    {
     "data": {
      "text/plain": [
       "array([[19, 22],\n",
       "       [43, 50]])"
      ]
     },
     "execution_count": 128,
     "metadata": {},
     "output_type": "execute_result"
    }
   ],
   "source": [
    "#Matrix Multiplication\n",
    "\n",
    "a=np.array([[1,2],[3,4]])\n",
    "b=np.array([[5,6],[7,8]])\n",
    "\n",
    "np.matmul(a,b)"
   ]
  },
  {
   "cell_type": "code",
   "execution_count": null,
   "id": "fee512f2",
   "metadata": {},
   "outputs": [],
   "source": []
  }
 ],
 "metadata": {
  "kernelspec": {
   "display_name": "Python 3 (ipykernel)",
   "language": "python",
   "name": "python3"
  },
  "language_info": {
   "codemirror_mode": {
    "name": "ipython",
    "version": 3
   },
   "file_extension": ".py",
   "mimetype": "text/x-python",
   "name": "python",
   "nbconvert_exporter": "python",
   "pygments_lexer": "ipython3",
   "version": "3.11.3"
  }
 },
 "nbformat": 4,
 "nbformat_minor": 5
}
