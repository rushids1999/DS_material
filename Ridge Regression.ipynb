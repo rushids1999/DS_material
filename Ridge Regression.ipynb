{
 "cells": [
  {
   "cell_type": "markdown",
   "id": "ef016099",
   "metadata": {},
   "source": [
    "# Step -1 : Business  Problem Understanding"
   ]
  },
  {
   "cell_type": "code",
   "execution_count": 1,
   "id": "a75efd2b",
   "metadata": {},
   "outputs": [],
   "source": [
    "import pandas as pd \n",
    "import numpy as np\n",
    "import matplotlib.pyplot as plt\n",
    "import seaborn as sns"
   ]
  },
  {
   "cell_type": "markdown",
   "id": "051d94e1",
   "metadata": {},
   "source": [
    "# Step -2 : Data Understaning"
   ]
  },
  {
   "cell_type": "markdown",
   "id": "1ad5ccc1",
   "metadata": {},
   "source": [
    "Load Data & Understand Every variable"
   ]
  },
  {
   "cell_type": "code",
   "execution_count": 3,
   "id": "3d6b1751",
   "metadata": {},
   "outputs": [
    {
     "data": {
      "text/html": [
       "<div>\n",
       "<style scoped>\n",
       "    .dataframe tbody tr th:only-of-type {\n",
       "        vertical-align: middle;\n",
       "    }\n",
       "\n",
       "    .dataframe tbody tr th {\n",
       "        vertical-align: top;\n",
       "    }\n",
       "\n",
       "    .dataframe thead th {\n",
       "        text-align: right;\n",
       "    }\n",
       "</style>\n",
       "<table border=\"1\" class=\"dataframe\">\n",
       "  <thead>\n",
       "    <tr style=\"text-align: right;\">\n",
       "      <th></th>\n",
       "      <th>age</th>\n",
       "      <th>sex</th>\n",
       "      <th>bmi</th>\n",
       "      <th>children</th>\n",
       "      <th>smoker</th>\n",
       "      <th>region</th>\n",
       "      <th>expenses</th>\n",
       "    </tr>\n",
       "  </thead>\n",
       "  <tbody>\n",
       "    <tr>\n",
       "      <th>0</th>\n",
       "      <td>19</td>\n",
       "      <td>female</td>\n",
       "      <td>27.9</td>\n",
       "      <td>0</td>\n",
       "      <td>yes</td>\n",
       "      <td>southwest</td>\n",
       "      <td>16884.92</td>\n",
       "    </tr>\n",
       "    <tr>\n",
       "      <th>1</th>\n",
       "      <td>18</td>\n",
       "      <td>male</td>\n",
       "      <td>33.8</td>\n",
       "      <td>1</td>\n",
       "      <td>no</td>\n",
       "      <td>southeast</td>\n",
       "      <td>1725.55</td>\n",
       "    </tr>\n",
       "    <tr>\n",
       "      <th>2</th>\n",
       "      <td>28</td>\n",
       "      <td>male</td>\n",
       "      <td>33.0</td>\n",
       "      <td>3</td>\n",
       "      <td>no</td>\n",
       "      <td>southeast</td>\n",
       "      <td>4449.46</td>\n",
       "    </tr>\n",
       "    <tr>\n",
       "      <th>3</th>\n",
       "      <td>33</td>\n",
       "      <td>male</td>\n",
       "      <td>22.7</td>\n",
       "      <td>0</td>\n",
       "      <td>no</td>\n",
       "      <td>northwest</td>\n",
       "      <td>21984.47</td>\n",
       "    </tr>\n",
       "    <tr>\n",
       "      <th>4</th>\n",
       "      <td>32</td>\n",
       "      <td>male</td>\n",
       "      <td>28.9</td>\n",
       "      <td>0</td>\n",
       "      <td>no</td>\n",
       "      <td>northwest</td>\n",
       "      <td>3866.86</td>\n",
       "    </tr>\n",
       "  </tbody>\n",
       "</table>\n",
       "</div>"
      ],
      "text/plain": [
       "   age     sex   bmi  children smoker     region  expenses\n",
       "0   19  female  27.9         0    yes  southwest  16884.92\n",
       "1   18    male  33.8         1     no  southeast   1725.55\n",
       "2   28    male  33.0         3     no  southeast   4449.46\n",
       "3   33    male  22.7         0     no  northwest  21984.47\n",
       "4   32    male  28.9         0     no  northwest   3866.86"
      ]
     },
     "execution_count": 3,
     "metadata": {},
     "output_type": "execute_result"
    }
   ],
   "source": [
    "df = pd.read_excel(\"insurance.xlsx\")\n",
    "df.head()"
   ]
  },
  {
   "cell_type": "markdown",
   "id": "926d8396",
   "metadata": {},
   "source": [
    "# Dataset Understanding"
   ]
  },
  {
   "cell_type": "code",
   "execution_count": 4,
   "id": "4099c982",
   "metadata": {},
   "outputs": [
    {
     "data": {
      "text/plain": [
       "(1338, 7)"
      ]
     },
     "execution_count": 4,
     "metadata": {},
     "output_type": "execute_result"
    }
   ],
   "source": [
    "df.shape"
   ]
  },
  {
   "cell_type": "code",
   "execution_count": 5,
   "id": "a410dee2",
   "metadata": {},
   "outputs": [
    {
     "name": "stdout",
     "output_type": "stream",
     "text": [
      "<class 'pandas.core.frame.DataFrame'>\n",
      "RangeIndex: 1338 entries, 0 to 1337\n",
      "Data columns (total 7 columns):\n",
      " #   Column    Non-Null Count  Dtype  \n",
      "---  ------    --------------  -----  \n",
      " 0   age       1338 non-null   int64  \n",
      " 1   sex       1338 non-null   object \n",
      " 2   bmi       1338 non-null   float64\n",
      " 3   children  1338 non-null   int64  \n",
      " 4   smoker    1338 non-null   object \n",
      " 5   region    1338 non-null   object \n",
      " 6   expenses  1338 non-null   float64\n",
      "dtypes: float64(2), int64(2), object(3)\n",
      "memory usage: 73.3+ KB\n"
     ]
    }
   ],
   "source": [
    "df.info()"
   ]
  },
  {
   "cell_type": "markdown",
   "id": "e1a12fc9",
   "metadata": {},
   "source": [
    "# Exploratory data analysis"
   ]
  },
  {
   "cell_type": "code",
   "execution_count": 8,
   "id": "5514cef1",
   "metadata": {},
   "outputs": [
    {
     "name": "stdout",
     "output_type": "stream",
     "text": [
      "categorical: ['sex', 'smoker', 'region']\n",
      "Continous ['bmi', 'expenses']\n",
      "Check ['age', 'children']\n"
     ]
    }
   ],
   "source": [
    "Categorical=[]\n",
    "continous=[]\n",
    "check=[]\n",
    "\n",
    "d_types= dict(df.dtypes)\n",
    "\n",
    "for name, type in d_types.items():\n",
    "    if str(type)=='object':\n",
    "        Categorical.append(name)\n",
    "        \n",
    "    elif str(type)=='float64':\n",
    "        continous.append(name)\n",
    "    \n",
    "    else:\n",
    "        \n",
    "        check.append(name)\n",
    "\n",
    "print(\"categorical:\",Categorical)\n",
    "print(\"Continous\",continous)\n",
    "print(\"Check\",check)"
   ]
  },
  {
   "cell_type": "code",
   "execution_count": 13,
   "id": "f454fb10",
   "metadata": {},
   "outputs": [
    {
     "name": "stdout",
     "output_type": "stream",
     "text": [
      "======sex====>\n",
      "male      676\n",
      "female    662\n",
      "Name: sex, dtype: int64\n",
      "======smoker====>\n",
      "no     1064\n",
      "yes     274\n",
      "Name: smoker, dtype: int64\n",
      "======region====>\n",
      "southeast    364\n",
      "southwest    325\n",
      "northwest    325\n",
      "northeast    324\n",
      "Name: region, dtype: int64\n"
     ]
    }
   ],
   "source": [
    "d_types = dict(df.dtypes)\n",
    "\n",
    "for name, type_  in  d_types.items():\n",
    "    if str(type_)== 'object':\n",
    "        print(f\"======{name}====>\")\n",
    "        print(df[name].value_counts())"
   ]
  },
  {
   "cell_type": "code",
   "execution_count": 14,
   "id": "51ddc301",
   "metadata": {},
   "outputs": [
    {
     "data": {
      "text/html": [
       "<div>\n",
       "<style scoped>\n",
       "    .dataframe tbody tr th:only-of-type {\n",
       "        vertical-align: middle;\n",
       "    }\n",
       "\n",
       "    .dataframe tbody tr th {\n",
       "        vertical-align: top;\n",
       "    }\n",
       "\n",
       "    .dataframe thead th {\n",
       "        text-align: right;\n",
       "    }\n",
       "</style>\n",
       "<table border=\"1\" class=\"dataframe\">\n",
       "  <thead>\n",
       "    <tr style=\"text-align: right;\">\n",
       "      <th></th>\n",
       "      <th>age</th>\n",
       "      <th>bmi</th>\n",
       "      <th>children</th>\n",
       "      <th>expenses</th>\n",
       "    </tr>\n",
       "  </thead>\n",
       "  <tbody>\n",
       "    <tr>\n",
       "      <th>count</th>\n",
       "      <td>1338.000000</td>\n",
       "      <td>1338.000000</td>\n",
       "      <td>1338.000000</td>\n",
       "      <td>1338.000000</td>\n",
       "    </tr>\n",
       "    <tr>\n",
       "      <th>mean</th>\n",
       "      <td>39.207025</td>\n",
       "      <td>30.665471</td>\n",
       "      <td>1.094918</td>\n",
       "      <td>13270.422414</td>\n",
       "    </tr>\n",
       "    <tr>\n",
       "      <th>std</th>\n",
       "      <td>14.049960</td>\n",
       "      <td>6.098382</td>\n",
       "      <td>1.205493</td>\n",
       "      <td>12110.011240</td>\n",
       "    </tr>\n",
       "    <tr>\n",
       "      <th>min</th>\n",
       "      <td>18.000000</td>\n",
       "      <td>16.000000</td>\n",
       "      <td>0.000000</td>\n",
       "      <td>1121.870000</td>\n",
       "    </tr>\n",
       "    <tr>\n",
       "      <th>25%</th>\n",
       "      <td>27.000000</td>\n",
       "      <td>26.300000</td>\n",
       "      <td>0.000000</td>\n",
       "      <td>4740.287500</td>\n",
       "    </tr>\n",
       "    <tr>\n",
       "      <th>50%</th>\n",
       "      <td>39.000000</td>\n",
       "      <td>30.400000</td>\n",
       "      <td>1.000000</td>\n",
       "      <td>9382.030000</td>\n",
       "    </tr>\n",
       "    <tr>\n",
       "      <th>75%</th>\n",
       "      <td>51.000000</td>\n",
       "      <td>34.700000</td>\n",
       "      <td>2.000000</td>\n",
       "      <td>16639.915000</td>\n",
       "    </tr>\n",
       "    <tr>\n",
       "      <th>max</th>\n",
       "      <td>64.000000</td>\n",
       "      <td>53.100000</td>\n",
       "      <td>5.000000</td>\n",
       "      <td>63770.430000</td>\n",
       "    </tr>\n",
       "  </tbody>\n",
       "</table>\n",
       "</div>"
      ],
      "text/plain": [
       "               age          bmi     children      expenses\n",
       "count  1338.000000  1338.000000  1338.000000   1338.000000\n",
       "mean     39.207025    30.665471     1.094918  13270.422414\n",
       "std      14.049960     6.098382     1.205493  12110.011240\n",
       "min      18.000000    16.000000     0.000000   1121.870000\n",
       "25%      27.000000    26.300000     0.000000   4740.287500\n",
       "50%      39.000000    30.400000     1.000000   9382.030000\n",
       "75%      51.000000    34.700000     2.000000  16639.915000\n",
       "max      64.000000    53.100000     5.000000  63770.430000"
      ]
     },
     "execution_count": 14,
     "metadata": {},
     "output_type": "execute_result"
    }
   ],
   "source": [
    "df.describe()"
   ]
  },
  {
   "cell_type": "code",
   "execution_count": 15,
   "id": "9fe5d476",
   "metadata": {},
   "outputs": [
    {
     "name": "stderr",
     "output_type": "stream",
     "text": [
      "C:\\Users\\Admin\\AppData\\Local\\Temp\\ipykernel_15280\\1134722465.py:1: FutureWarning: The default value of numeric_only in DataFrame.corr is deprecated. In a future version, it will default to False. Select only valid columns or specify the value of numeric_only to silence this warning.\n",
      "  df.corr()\n"
     ]
    },
    {
     "data": {
      "text/html": [
       "<div>\n",
       "<style scoped>\n",
       "    .dataframe tbody tr th:only-of-type {\n",
       "        vertical-align: middle;\n",
       "    }\n",
       "\n",
       "    .dataframe tbody tr th {\n",
       "        vertical-align: top;\n",
       "    }\n",
       "\n",
       "    .dataframe thead th {\n",
       "        text-align: right;\n",
       "    }\n",
       "</style>\n",
       "<table border=\"1\" class=\"dataframe\">\n",
       "  <thead>\n",
       "    <tr style=\"text-align: right;\">\n",
       "      <th></th>\n",
       "      <th>age</th>\n",
       "      <th>bmi</th>\n",
       "      <th>children</th>\n",
       "      <th>expenses</th>\n",
       "    </tr>\n",
       "  </thead>\n",
       "  <tbody>\n",
       "    <tr>\n",
       "      <th>age</th>\n",
       "      <td>1.000000</td>\n",
       "      <td>0.109341</td>\n",
       "      <td>0.042469</td>\n",
       "      <td>0.299008</td>\n",
       "    </tr>\n",
       "    <tr>\n",
       "      <th>bmi</th>\n",
       "      <td>0.109341</td>\n",
       "      <td>1.000000</td>\n",
       "      <td>0.012645</td>\n",
       "      <td>0.198576</td>\n",
       "    </tr>\n",
       "    <tr>\n",
       "      <th>children</th>\n",
       "      <td>0.042469</td>\n",
       "      <td>0.012645</td>\n",
       "      <td>1.000000</td>\n",
       "      <td>0.067998</td>\n",
       "    </tr>\n",
       "    <tr>\n",
       "      <th>expenses</th>\n",
       "      <td>0.299008</td>\n",
       "      <td>0.198576</td>\n",
       "      <td>0.067998</td>\n",
       "      <td>1.000000</td>\n",
       "    </tr>\n",
       "  </tbody>\n",
       "</table>\n",
       "</div>"
      ],
      "text/plain": [
       "               age       bmi  children  expenses\n",
       "age       1.000000  0.109341  0.042469  0.299008\n",
       "bmi       0.109341  1.000000  0.012645  0.198576\n",
       "children  0.042469  0.012645  1.000000  0.067998\n",
       "expenses  0.299008  0.198576  0.067998  1.000000"
      ]
     },
     "execution_count": 15,
     "metadata": {},
     "output_type": "execute_result"
    }
   ],
   "source": [
    "df.corr()"
   ]
  },
  {
   "cell_type": "markdown",
   "id": "68b4a1dc",
   "metadata": {},
   "source": [
    "# step -3 : Data Processing"
   ]
  },
  {
   "cell_type": "code",
   "execution_count": 16,
   "id": "aba6918c",
   "metadata": {},
   "outputs": [
    {
     "data": {
      "text/plain": [
       "age         0\n",
       "sex         0\n",
       "bmi         0\n",
       "children    0\n",
       "smoker      0\n",
       "region      0\n",
       "expenses    0\n",
       "dtype: int64"
      ]
     },
     "execution_count": 16,
     "metadata": {},
     "output_type": "execute_result"
    }
   ],
   "source": [
    "df.isnull().sum()"
   ]
  },
  {
   "cell_type": "code",
   "execution_count": 17,
   "id": "f17b263e",
   "metadata": {},
   "outputs": [],
   "source": [
    "#drop the region columns (unwanted column)\n",
    "\n",
    "df.drop('region',axis=1,inplace=True)\n"
   ]
  },
  {
   "cell_type": "code",
   "execution_count": 26,
   "id": "b9e5bb2d",
   "metadata": {},
   "outputs": [],
   "source": [
    "# Encoding sex column\n",
    "df['sex'].replace({'female':0,'male':1},inplace=True)\n",
    "\n",
    "\n",
    "#Encoding smoker columns\n",
    "\n",
    "df['smoker'].replace({'no':0,'yes':1},inplace=True)\n",
    "\n"
   ]
  },
  {
   "cell_type": "markdown",
   "id": "2e54cc7d",
   "metadata": {},
   "source": [
    "# X & Y"
   ]
  },
  {
   "cell_type": "code",
   "execution_count": 27,
   "id": "b900fecc",
   "metadata": {},
   "outputs": [],
   "source": [
    "x=df.drop(columns='expenses')\n",
    "y=df['expenses']"
   ]
  },
  {
   "cell_type": "code",
   "execution_count": 41,
   "id": "e2aa0d7d",
   "metadata": {},
   "outputs": [],
   "source": [
    "# Train test split\n",
    "\n",
    "from sklearn.model_selection import train_test_split\n",
    "\n",
    "x_train,x_test,y_train,y_test=train_test_split(x,y,test_size=20,random_state=37)"
   ]
  },
  {
   "cell_type": "markdown",
   "id": "4aa11474",
   "metadata": {},
   "source": [
    "# Step 4,5 : Modelling and Evaluation"
   ]
  },
  {
   "cell_type": "code",
   "execution_count": 46,
   "id": "62a7158a",
   "metadata": {},
   "outputs": [
    {
     "name": "stdout",
     "output_type": "stream",
     "text": [
      "train_R2 0.7492043591292339\n",
      "test_R2 0.790993519548942\n"
     ]
    },
    {
     "data": {
      "text/plain": [
       "0.7466523551462286"
      ]
     },
     "execution_count": 46,
     "metadata": {},
     "output_type": "execute_result"
    }
   ],
   "source": [
    "#Modelling \n",
    "\n",
    "from sklearn.linear_model import Ridge\n",
    "\n",
    "ridge_model=Ridge()\n",
    "\n",
    "ridge_model.fit(x_train,y_train)\n",
    "\n",
    "#Prediction\n",
    "\n",
    "train_predictions=ridge_model.predict(x_train)\n",
    "test_predictions=ridge_model.predict(x_test)\n",
    "\n",
    "#R2\n",
    "\n",
    "print(\"train_R2\",ridge_model.score(x_train,y_train))\n",
    "\n",
    "print(\"test_R2\",ridge_model.score(x_test,y_test))\n",
    "\n",
    "\n",
    "#Cross validation score\n",
    "\n",
    "from sklearn.model_selection import cross_val_score\n",
    "cv=cross_val_score(ridge_model,x,y,cv=5).mean()\n",
    "cv\n"
   ]
  },
  {
   "cell_type": "markdown",
   "id": "a322cd01",
   "metadata": {},
   "source": [
    "# Applying Hyper Parameter tunning for Ridge Regression\n"
   ]
  },
  {
   "cell_type": "code",
   "execution_count": 48,
   "id": "fc6f9be9",
   "metadata": {},
   "outputs": [
    {
     "data": {
      "text/plain": [
       "{'alpha': 0.1}"
      ]
     },
     "execution_count": 48,
     "metadata": {},
     "output_type": "execute_result"
    }
   ],
   "source": [
    "from sklearn.model_selection import GridSearchCV\n",
    "\n",
    "#model\n",
    "\n",
    "estimator=Ridge()\n",
    "\n",
    "#Parameters and values\n",
    "\n",
    "param_grid = {\"alpha\":[0.1,0.2,0.5,0.71,10,100,1000]}\n",
    "\n",
    "#Identifying the best value of the parameter within given values for the given data\n",
    "\n",
    "model_hp = GridSearchCV(estimator,param_grid,cv=5,scoring='neg_mean_squared_error')\n",
    "\n",
    "model_hp.fit(x_train,y_train)\n",
    "\n",
    "model_hp.best_params_"
   ]
  },
  {
   "cell_type": "markdown",
   "id": "d9675831",
   "metadata": {},
   "source": [
    "# Rebuild Ridge model using best hyperparameter"
   ]
  },
  {
   "cell_type": "code",
   "execution_count": 52,
   "id": "699fc24b",
   "metadata": {},
   "outputs": [
    {
     "name": "stdout",
     "output_type": "stream",
     "text": [
      "Intercept -12117.953355964588\n",
      "Coefficient [  259.60182408  -165.30419369   323.09833309   479.99045792\n",
      " 23786.1456619 ]\n",
      "Train R2: 0.7492177677423766\n",
      "test R2: 0.7914846409748292\n",
      "cross validation Score 0.7466599257222318\n"
     ]
    }
   ],
   "source": [
    "#modelling \n",
    "\n",
    "ridge_best = Ridge(alpha=0.1)\n",
    "ridge_best.fit(x_train,y_train)\n",
    "\n",
    "print(\"Intercept\",ridge_best.intercept_)\n",
    "print(\"Coefficient\",ridge_best.coef_)\n",
    "\n",
    "#prediction\n",
    "train_predictions = ridge_best.predict(x_train)\n",
    "test_predictions=ridge_best.predict(x_test)\n",
    "\n",
    "#Evaluation\n",
    "\n",
    "print(\"Train R2:\",ridge_best.score(x_train,y_train))\n",
    "print(\"test R2:\",ridge_best.score(x_test,y_test))\n",
    "print(\"cross validation Score\",cross_val_score(ridge_best,x,y,cv=5).mean())"
   ]
  },
  {
   "cell_type": "markdown",
   "id": "6d26653c",
   "metadata": {},
   "source": [
    "# Prediction on new data"
   ]
  },
  {
   "cell_type": "code",
   "execution_count": 53,
   "id": "ea6a79cf",
   "metadata": {},
   "outputs": [],
   "source": [
    "input_data={\"age\":31,\n",
    "           \"sex\":\"female\",\n",
    "           \"bmi\":25.74,\n",
    "           \"children\":0,\n",
    "           'smoker':\"no\",\n",
    "           \"region\":\"northest\"}"
   ]
  },
  {
   "cell_type": "code",
   "execution_count": 60,
   "id": "a473ee96",
   "metadata": {},
   "outputs": [],
   "source": [
    "#preprocessing data\n",
    "df_test=pd.DataFrame(input_data,index=[0])\n",
    "df_test.drop(columns='region',inplace=True)\n",
    "df_test['sex'].replace({'female':0,'male':1},inplace=True)\n",
    "df_test['smoker'].replace({'no':0,'yes':1},inplace=True)\n",
    "\n",
    "transformed_data=df_test"
   ]
  },
  {
   "cell_type": "markdown",
   "id": "d6677986",
   "metadata": {},
   "source": [
    "# Predict"
   ]
  },
  {
   "cell_type": "code",
   "execution_count": 61,
   "id": "b3a637d9",
   "metadata": {},
   "outputs": [
    {
     "data": {
      "text/plain": [
       "array([4246.25428408])"
      ]
     },
     "execution_count": 61,
     "metadata": {},
     "output_type": "execute_result"
    }
   ],
   "source": [
    "ridge_best.predict(transformed_data)"
   ]
  },
  {
   "cell_type": "code",
   "execution_count": null,
   "id": "ff13b71d",
   "metadata": {},
   "outputs": [],
   "source": []
  }
 ],
 "metadata": {
  "kernelspec": {
   "display_name": "Python 3 (ipykernel)",
   "language": "python",
   "name": "python3"
  },
  "language_info": {
   "codemirror_mode": {
    "name": "ipython",
    "version": 3
   },
   "file_extension": ".py",
   "mimetype": "text/x-python",
   "name": "python",
   "nbconvert_exporter": "python",
   "pygments_lexer": "ipython3",
   "version": "3.11.3"
  }
 },
 "nbformat": 4,
 "nbformat_minor": 5
}
