{
 "cells": [
  {
   "cell_type": "code",
   "execution_count": 1,
   "id": "e6b21abe",
   "metadata": {},
   "outputs": [],
   "source": [
    "import numpy as np\n",
    "import pandas as pd"
   ]
  },
  {
   "cell_type": "code",
   "execution_count": 31,
   "id": "5e8c5f0a",
   "metadata": {},
   "outputs": [],
   "source": [
    "df=pd.read_csv(\"claimants sample.csv\")"
   ]
  },
  {
   "cell_type": "code",
   "execution_count": 34,
   "id": "6cbfcc7f",
   "metadata": {},
   "outputs": [
    {
     "data": {
      "text/html": [
       "<div>\n",
       "<style scoped>\n",
       "    .dataframe tbody tr th:only-of-type {\n",
       "        vertical-align: middle;\n",
       "    }\n",
       "\n",
       "    .dataframe tbody tr th {\n",
       "        vertical-align: top;\n",
       "    }\n",
       "\n",
       "    .dataframe thead th {\n",
       "        text-align: right;\n",
       "    }\n",
       "</style>\n",
       "<table border=\"1\" class=\"dataframe\">\n",
       "  <thead>\n",
       "    <tr style=\"text-align: right;\">\n",
       "      <th></th>\n",
       "      <th>CASENUM</th>\n",
       "      <th>CLMSEX</th>\n",
       "      <th>CLMINSUR</th>\n",
       "      <th>SEATBELT</th>\n",
       "      <th>CLMAGE</th>\n",
       "      <th>LOSS</th>\n",
       "      <th>ATTORNEY</th>\n",
       "    </tr>\n",
       "  </thead>\n",
       "  <tbody>\n",
       "    <tr>\n",
       "      <th>0</th>\n",
       "      <td>5</td>\n",
       "      <td>0</td>\n",
       "      <td>1.0</td>\n",
       "      <td>0</td>\n",
       "      <td>50.0</td>\n",
       "      <td>34.940</td>\n",
       "      <td>0</td>\n",
       "    </tr>\n",
       "    <tr>\n",
       "      <th>1</th>\n",
       "      <td>3</td>\n",
       "      <td>1</td>\n",
       "      <td>0.0</td>\n",
       "      <td>0</td>\n",
       "      <td>18.0</td>\n",
       "      <td>0.891</td>\n",
       "      <td>1</td>\n",
       "    </tr>\n",
       "    <tr>\n",
       "      <th>2</th>\n",
       "      <td>66</td>\n",
       "      <td>0</td>\n",
       "      <td>1.0</td>\n",
       "      <td>0</td>\n",
       "      <td>5.0</td>\n",
       "      <td>0.330</td>\n",
       "      <td>1</td>\n",
       "    </tr>\n",
       "    <tr>\n",
       "      <th>3</th>\n",
       "      <td>70</td>\n",
       "      <td>1</td>\n",
       "      <td>1.0</td>\n",
       "      <td>1</td>\n",
       "      <td>31.0</td>\n",
       "      <td>0.037</td>\n",
       "      <td>0</td>\n",
       "    </tr>\n",
       "    <tr>\n",
       "      <th>4</th>\n",
       "      <td>96</td>\n",
       "      <td>0</td>\n",
       "      <td>1.0</td>\n",
       "      <td>0</td>\n",
       "      <td>30.0</td>\n",
       "      <td>NaN</td>\n",
       "      <td>1</td>\n",
       "    </tr>\n",
       "    <tr>\n",
       "      <th>5</th>\n",
       "      <td>97</td>\n",
       "      <td>1</td>\n",
       "      <td>1.0</td>\n",
       "      <td>0</td>\n",
       "      <td>35.0</td>\n",
       "      <td>0.309</td>\n",
       "      <td>0</td>\n",
       "    </tr>\n",
       "    <tr>\n",
       "      <th>6</th>\n",
       "      <td>10</td>\n",
       "      <td>0</td>\n",
       "      <td>NaN</td>\n",
       "      <td>0</td>\n",
       "      <td>9.0</td>\n",
       "      <td>3.538</td>\n",
       "      <td>0</td>\n",
       "    </tr>\n",
       "    <tr>\n",
       "      <th>7</th>\n",
       "      <td>36</td>\n",
       "      <td>1</td>\n",
       "      <td>NaN</td>\n",
       "      <td>0</td>\n",
       "      <td>34.0</td>\n",
       "      <td>4.881</td>\n",
       "      <td>0</td>\n",
       "    </tr>\n",
       "    <tr>\n",
       "      <th>8</th>\n",
       "      <td>51</td>\n",
       "      <td>1</td>\n",
       "      <td>1.0</td>\n",
       "      <td>0</td>\n",
       "      <td>60.0</td>\n",
       "      <td>0.874</td>\n",
       "      <td>1</td>\n",
       "    </tr>\n",
       "    <tr>\n",
       "      <th>9</th>\n",
       "      <td>55</td>\n",
       "      <td>1</td>\n",
       "      <td>1.0</td>\n",
       "      <td>0</td>\n",
       "      <td>NaN</td>\n",
       "      <td>0.350</td>\n",
       "      <td>1</td>\n",
       "    </tr>\n",
       "  </tbody>\n",
       "</table>\n",
       "</div>"
      ],
      "text/plain": [
       "   CASENUM  CLMSEX  CLMINSUR  SEATBELT  CLMAGE    LOSS  ATTORNEY\n",
       "0        5       0       1.0         0    50.0  34.940         0\n",
       "1        3       1       0.0         0    18.0   0.891         1\n",
       "2       66       0       1.0         0     5.0   0.330         1\n",
       "3       70       1       1.0         1    31.0   0.037         0\n",
       "4       96       0       1.0         0    30.0     NaN         1\n",
       "5       97       1       1.0         0    35.0   0.309         0\n",
       "6       10       0       NaN         0     9.0   3.538         0\n",
       "7       36       1       NaN         0    34.0   4.881         0\n",
       "8       51       1       1.0         0    60.0   0.874         1\n",
       "9       55       1       1.0         0     NaN   0.350         1"
      ]
     },
     "execution_count": 34,
     "metadata": {},
     "output_type": "execute_result"
    }
   ],
   "source": [
    "df"
   ]
  },
  {
   "cell_type": "code",
   "execution_count": 35,
   "id": "f7197813",
   "metadata": {},
   "outputs": [
    {
     "name": "stdout",
     "output_type": "stream",
     "text": [
      "<class 'pandas.core.frame.DataFrame'>\n",
      "RangeIndex: 10 entries, 0 to 9\n",
      "Data columns (total 7 columns):\n",
      " #   Column    Non-Null Count  Dtype  \n",
      "---  ------    --------------  -----  \n",
      " 0   CASENUM   10 non-null     int64  \n",
      " 1   CLMSEX    10 non-null     int64  \n",
      " 2   CLMINSUR  8 non-null      float64\n",
      " 3   SEATBELT  10 non-null     int64  \n",
      " 4   CLMAGE    9 non-null      float64\n",
      " 5   LOSS      9 non-null      float64\n",
      " 6   ATTORNEY  10 non-null     int64  \n",
      "dtypes: float64(3), int64(4)\n",
      "memory usage: 692.0 bytes\n"
     ]
    }
   ],
   "source": [
    "df.info()"
   ]
  },
  {
   "cell_type": "markdown",
   "id": "04d42bf2",
   "metadata": {},
   "source": [
    "# Check for missing values in each columns"
   ]
  },
  {
   "cell_type": "code",
   "execution_count": 36,
   "id": "5349a5cd",
   "metadata": {},
   "outputs": [
    {
     "data": {
      "text/plain": [
       "CASENUM     0\n",
       "CLMSEX      0\n",
       "CLMINSUR    2\n",
       "SEATBELT    0\n",
       "CLMAGE      1\n",
       "LOSS        1\n",
       "ATTORNEY    0\n",
       "dtype: int64"
      ]
     },
     "execution_count": 36,
     "metadata": {},
     "output_type": "execute_result"
    }
   ],
   "source": [
    "df.isnull().sum()"
   ]
  },
  {
   "cell_type": "markdown",
   "id": "8b3f45b4",
   "metadata": {},
   "source": [
    "* Empty cell give you wrong result when you analyze data."
   ]
  },
  {
   "cell_type": "markdown",
   "id": "75c344e0",
   "metadata": {},
   "source": [
    "# Dealig the missing values"
   ]
  },
  {
   "cell_type": "markdown",
   "id": "69bf97fa",
   "metadata": {},
   "source": [
    "# 1. Remove the row that contains missing values."
   ]
  },
  {
   "cell_type": "code",
   "execution_count": 37,
   "id": "694df812",
   "metadata": {},
   "outputs": [],
   "source": [
    "df1=df.dropna()  #5% data delection is allowed with statistical prove."
   ]
  },
  {
   "cell_type": "markdown",
   "id": "cc4e8d8b",
   "metadata": {},
   "source": [
    "df1\n",
    "\n",
    "* We should not remove >5% of original data.\n",
    "\n",
    "* This is usually ok, for very big data sets, and removing a few rows will not have a big impact on the result.\n"
   ]
  },
  {
   "cell_type": "code",
   "execution_count": 38,
   "id": "0809ee8f",
   "metadata": {},
   "outputs": [
    {
     "data": {
      "text/plain": [
       "CASENUM     0\n",
       "CLMSEX      0\n",
       "CLMINSUR    0\n",
       "SEATBELT    0\n",
       "CLMAGE      0\n",
       "LOSS        0\n",
       "ATTORNEY    0\n",
       "dtype: int64"
      ]
     },
     "execution_count": 38,
     "metadata": {},
     "output_type": "execute_result"
    }
   ],
   "source": [
    "df1.isnull().sum()"
   ]
  },
  {
   "cell_type": "markdown",
   "id": "cad1525f",
   "metadata": {},
   "source": [
    "# 2. Rplace the NaN value"
   ]
  },
  {
   "cell_type": "markdown",
   "id": "72c3a46d",
   "metadata": {},
   "source": [
    "-Mean\n",
    "\n",
    "-Median\n",
    "\n",
    "-Mode\n",
    "\n",
    "_Fill with some value"
   ]
  },
  {
   "cell_type": "markdown",
   "id": "5c67f859",
   "metadata": {},
   "source": [
    "* Continous Variables -->Age,Loss--->Replace with either mean or median for continous data.\n",
    "\n",
    "* Discreate Variables -->INSUR---> Mode is used for discreate data.\n"
   ]
  },
  {
   "cell_type": "markdown",
   "id": "d1e435c4",
   "metadata": {},
   "source": [
    "1. fillna() Using pandas"
   ]
  },
  {
   "cell_type": "code",
   "execution_count": 39,
   "id": "53c3942b",
   "metadata": {},
   "outputs": [
    {
     "data": {
      "text/plain": [
       "0.875"
      ]
     },
     "execution_count": 39,
     "metadata": {},
     "output_type": "execute_result"
    }
   ],
   "source": [
    "df[\"CLMINSUR\"].mean()"
   ]
  },
  {
   "cell_type": "code",
   "execution_count": 41,
   "id": "3dcc6701",
   "metadata": {},
   "outputs": [],
   "source": [
    "df[\"CLMINSUR\"].fillna(0.875,inplace=True)"
   ]
  },
  {
   "cell_type": "code",
   "execution_count": 42,
   "id": "a5d0a51c",
   "metadata": {},
   "outputs": [],
   "source": [
    "#df[\"CLMINSUR\"].fillna(df[\"CLMINSUR\"].mean(),inplace=True)"
   ]
  },
  {
   "cell_type": "code",
   "execution_count": 43,
   "id": "1f011501",
   "metadata": {},
   "outputs": [],
   "source": [
    "df[\"LOSS\"].fillna(df[\"LOSS\"].mean(),inplace=True)"
   ]
  },
  {
   "cell_type": "code",
   "execution_count": 47,
   "id": "e6f31c33",
   "metadata": {},
   "outputs": [],
   "source": [
    "df[\"CLMAGE\"].fillna(df[\"CLMAGE\"].mean(),inplace=True)"
   ]
  },
  {
   "cell_type": "code",
   "execution_count": 48,
   "id": "543d0148",
   "metadata": {},
   "outputs": [],
   "source": [
    "#For discreaye data use mode like yes,no"
   ]
  },
  {
   "cell_type": "markdown",
   "id": "7f249b64",
   "metadata": {},
   "source": [
    "# Option 2 Using Sklearn"
   ]
  },
  {
   "cell_type": "code",
   "execution_count": 50,
   "id": "921c3fcb",
   "metadata": {},
   "outputs": [],
   "source": [
    "df=pd.read_csv(\"Claimants sample.csv\")"
   ]
  },
  {
   "cell_type": "code",
   "execution_count": 51,
   "id": "677ce36d",
   "metadata": {},
   "outputs": [
    {
     "data": {
      "text/html": [
       "<div>\n",
       "<style scoped>\n",
       "    .dataframe tbody tr th:only-of-type {\n",
       "        vertical-align: middle;\n",
       "    }\n",
       "\n",
       "    .dataframe tbody tr th {\n",
       "        vertical-align: top;\n",
       "    }\n",
       "\n",
       "    .dataframe thead th {\n",
       "        text-align: right;\n",
       "    }\n",
       "</style>\n",
       "<table border=\"1\" class=\"dataframe\">\n",
       "  <thead>\n",
       "    <tr style=\"text-align: right;\">\n",
       "      <th></th>\n",
       "      <th>CASENUM</th>\n",
       "      <th>CLMSEX</th>\n",
       "      <th>CLMINSUR</th>\n",
       "      <th>SEATBELT</th>\n",
       "      <th>CLMAGE</th>\n",
       "      <th>LOSS</th>\n",
       "      <th>ATTORNEY</th>\n",
       "    </tr>\n",
       "  </thead>\n",
       "  <tbody>\n",
       "    <tr>\n",
       "      <th>0</th>\n",
       "      <td>5</td>\n",
       "      <td>0</td>\n",
       "      <td>1.0</td>\n",
       "      <td>0</td>\n",
       "      <td>50.0</td>\n",
       "      <td>34.940</td>\n",
       "      <td>0</td>\n",
       "    </tr>\n",
       "    <tr>\n",
       "      <th>1</th>\n",
       "      <td>3</td>\n",
       "      <td>1</td>\n",
       "      <td>0.0</td>\n",
       "      <td>0</td>\n",
       "      <td>18.0</td>\n",
       "      <td>0.891</td>\n",
       "      <td>1</td>\n",
       "    </tr>\n",
       "    <tr>\n",
       "      <th>2</th>\n",
       "      <td>66</td>\n",
       "      <td>0</td>\n",
       "      <td>1.0</td>\n",
       "      <td>0</td>\n",
       "      <td>5.0</td>\n",
       "      <td>0.330</td>\n",
       "      <td>1</td>\n",
       "    </tr>\n",
       "    <tr>\n",
       "      <th>3</th>\n",
       "      <td>70</td>\n",
       "      <td>1</td>\n",
       "      <td>1.0</td>\n",
       "      <td>1</td>\n",
       "      <td>31.0</td>\n",
       "      <td>0.037</td>\n",
       "      <td>0</td>\n",
       "    </tr>\n",
       "    <tr>\n",
       "      <th>4</th>\n",
       "      <td>96</td>\n",
       "      <td>0</td>\n",
       "      <td>1.0</td>\n",
       "      <td>0</td>\n",
       "      <td>30.0</td>\n",
       "      <td>NaN</td>\n",
       "      <td>1</td>\n",
       "    </tr>\n",
       "    <tr>\n",
       "      <th>5</th>\n",
       "      <td>97</td>\n",
       "      <td>1</td>\n",
       "      <td>1.0</td>\n",
       "      <td>0</td>\n",
       "      <td>35.0</td>\n",
       "      <td>0.309</td>\n",
       "      <td>0</td>\n",
       "    </tr>\n",
       "    <tr>\n",
       "      <th>6</th>\n",
       "      <td>10</td>\n",
       "      <td>0</td>\n",
       "      <td>NaN</td>\n",
       "      <td>0</td>\n",
       "      <td>9.0</td>\n",
       "      <td>3.538</td>\n",
       "      <td>0</td>\n",
       "    </tr>\n",
       "    <tr>\n",
       "      <th>7</th>\n",
       "      <td>36</td>\n",
       "      <td>1</td>\n",
       "      <td>NaN</td>\n",
       "      <td>0</td>\n",
       "      <td>34.0</td>\n",
       "      <td>4.881</td>\n",
       "      <td>0</td>\n",
       "    </tr>\n",
       "    <tr>\n",
       "      <th>8</th>\n",
       "      <td>51</td>\n",
       "      <td>1</td>\n",
       "      <td>1.0</td>\n",
       "      <td>0</td>\n",
       "      <td>60.0</td>\n",
       "      <td>0.874</td>\n",
       "      <td>1</td>\n",
       "    </tr>\n",
       "    <tr>\n",
       "      <th>9</th>\n",
       "      <td>55</td>\n",
       "      <td>1</td>\n",
       "      <td>1.0</td>\n",
       "      <td>0</td>\n",
       "      <td>NaN</td>\n",
       "      <td>0.350</td>\n",
       "      <td>1</td>\n",
       "    </tr>\n",
       "  </tbody>\n",
       "</table>\n",
       "</div>"
      ],
      "text/plain": [
       "   CASENUM  CLMSEX  CLMINSUR  SEATBELT  CLMAGE    LOSS  ATTORNEY\n",
       "0        5       0       1.0         0    50.0  34.940         0\n",
       "1        3       1       0.0         0    18.0   0.891         1\n",
       "2       66       0       1.0         0     5.0   0.330         1\n",
       "3       70       1       1.0         1    31.0   0.037         0\n",
       "4       96       0       1.0         0    30.0     NaN         1\n",
       "5       97       1       1.0         0    35.0   0.309         0\n",
       "6       10       0       NaN         0     9.0   3.538         0\n",
       "7       36       1       NaN         0    34.0   4.881         0\n",
       "8       51       1       1.0         0    60.0   0.874         1\n",
       "9       55       1       1.0         0     NaN   0.350         1"
      ]
     },
     "execution_count": 51,
     "metadata": {},
     "output_type": "execute_result"
    }
   ],
   "source": [
    "df"
   ]
  },
  {
   "cell_type": "code",
   "execution_count": 52,
   "id": "d4b19cff",
   "metadata": {},
   "outputs": [
    {
     "data": {
      "text/plain": [
       "CASENUM     0\n",
       "CLMSEX      0\n",
       "CLMINSUR    2\n",
       "SEATBELT    0\n",
       "CLMAGE      1\n",
       "LOSS        1\n",
       "ATTORNEY    0\n",
       "dtype: int64"
      ]
     },
     "execution_count": 52,
     "metadata": {},
     "output_type": "execute_result"
    }
   ],
   "source": [
    "df.isnull().sum()"
   ]
  },
  {
   "cell_type": "code",
   "execution_count": 53,
   "id": "bb08e4e4",
   "metadata": {},
   "outputs": [],
   "source": [
    "from sklearn.impute import SimpleImputer"
   ]
  },
  {
   "cell_type": "code",
   "execution_count": 54,
   "id": "abb9ad1a",
   "metadata": {},
   "outputs": [],
   "source": [
    "mean_imputer = SimpleImputer(strategy='mean')"
   ]
  },
  {
   "cell_type": "code",
   "execution_count": 58,
   "id": "a46b5a70",
   "metadata": {},
   "outputs": [],
   "source": [
    "df[\"CLMINSUR\"]=mean_imputer.fit_transform(df[[\"CLMINSUR\"]])"
   ]
  },
  {
   "cell_type": "code",
   "execution_count": 59,
   "id": "eaf72a62",
   "metadata": {},
   "outputs": [],
   "source": [
    "median_imputer=SimpleImputer(strategy='median')\n",
    "\n",
    "df[\"LOSS\"]=median_imputer.fit_transform(df[[\"LOSS\"]])"
   ]
  },
  {
   "cell_type": "code",
   "execution_count": 66,
   "id": "c36a2b6a",
   "metadata": {},
   "outputs": [],
   "source": [
    "median_imputer=SimpleImputer(strategy='median')\n",
    "\n",
    "df['CLMAGE']=median_imputer.fit_transform(df[[\"CLMAGE\"]])\n"
   ]
  },
  {
   "cell_type": "code",
   "execution_count": 67,
   "id": "c22e2a26",
   "metadata": {},
   "outputs": [
    {
     "data": {
      "text/plain": [
       "CASENUM     0\n",
       "CLMSEX      0\n",
       "CLMINSUR    0\n",
       "SEATBELT    0\n",
       "CLMAGE      0\n",
       "LOSS        0\n",
       "ATTORNEY    0\n",
       "dtype: int64"
      ]
     },
     "execution_count": 67,
     "metadata": {},
     "output_type": "execute_result"
    }
   ],
   "source": [
    "df.isnull().sum()"
   ]
  },
  {
   "cell_type": "code",
   "execution_count": null,
   "id": "b8eb19d1",
   "metadata": {},
   "outputs": [],
   "source": [
    "python--version"
   ]
  },
  {
   "cell_type": "code",
   "execution_count": null,
   "id": "fbc8ffaa",
   "metadata": {},
   "outputs": [],
   "source": []
  }
 ],
 "metadata": {
  "kernelspec": {
   "display_name": "Python 3 (ipykernel)",
   "language": "python",
   "name": "python3"
  },
  "language_info": {
   "codemirror_mode": {
    "name": "ipython",
    "version": 3
   },
   "file_extension": ".py",
   "mimetype": "text/x-python",
   "name": "python",
   "nbconvert_exporter": "python",
   "pygments_lexer": "ipython3",
   "version": "3.11.3"
  }
 },
 "nbformat": 4,
 "nbformat_minor": 5
}
